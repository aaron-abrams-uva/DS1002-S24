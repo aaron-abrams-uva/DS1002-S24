{
  "nbformat": 4,
  "nbformat_minor": 0,
  "metadata": {
    "colab": {
      "provenance": [],
      "include_colab_link": true
    },
    "kernelspec": {
      "name": "python3",
      "display_name": "Python 3"
    },
    "language_info": {
      "name": "python"
    }
  },
  "cells": [
    {
      "cell_type": "markdown",
      "metadata": {
        "id": "view-in-github",
        "colab_type": "text"
      },
      "source": [
        "<a href=\"https://colab.research.google.com/github/aaron-abrams-uva/DS1002-S24/blob/main/Python/Recursion1.ipynb\" target=\"_parent\"><img src=\"https://colab.research.google.com/assets/colab-badge.svg\" alt=\"Open In Colab\"/></a>"
      ]
    },
    {
      "cell_type": "markdown",
      "source": [
        "**Recursion (def):**  see \"recursion.\"\n"
      ],
      "metadata": {
        "id": "3JfbXHPxRqLf"
      }
    },
    {
      "cell_type": "markdown",
      "source": [
        "# Infinite Recursion\n",
        "\n",
        "(don't do this!)"
      ],
      "metadata": {
        "id": "xAtCXsXQBHc6"
      }
    },
    {
      "cell_type": "code",
      "source": [
        "# Infinite recursion\n",
        "\n",
        "def infinite_recursive_function():\n",
        "  infinite_recursive_function()\n",
        "\n",
        "infinite_recursive_function()"
      ],
      "metadata": {
        "id": "2rsrij9zBF3H"
      },
      "execution_count": null,
      "outputs": []
    },
    {
      "cell_type": "code",
      "source": [
        "def more_recursion(n):\n",
        "  for i in range(n):\n",
        "    print(n)\n",
        "    more_recursion(n + 1)\n",
        "\n",
        "more_recursion(5)\n"
      ],
      "metadata": {
        "id": "BssWbe2nCiWo"
      },
      "execution_count": null,
      "outputs": []
    },
    {
      "cell_type": "markdown",
      "source": [
        "# Factorials\n",
        "\n",
        "A factorial is the product of all the positive integers less than or equal to a given integer.\n",
        "\n",
        "    4! = 4 × 3 × 2 × 1 = 24\n",
        "\n",
        "This sort of repetitive calculation works well with recursion, since it's always essentially the same process; the only change is the starting number."
      ],
      "metadata": {
        "id": "tjgjGtR7_Qh_"
      }
    },
    {
      "cell_type": "code",
      "execution_count": 4,
      "metadata": {
        "id": "zctXDF8v_Kh2",
        "colab": {
          "base_uri": "https://localhost:8080/"
        },
        "outputId": "c65818ea-728f-4b1d-8f41-bd3761919b67"
      },
      "outputs": [
        {
          "output_type": "stream",
          "name": "stdout",
          "text": [
            "The factorial is: 5040\n"
          ]
        }
      ],
      "source": [
        "def factorial(n):\n",
        "  # Base case: 0! and 1! are both 1\n",
        "  if n == 0 or n == 1:\n",
        "    return 1\n",
        "  else:\n",
        "    # Recursive case: n! = n * (n-1)!\n",
        "    return n * factorial(n - 1)\n",
        "\n",
        "# Example usage:\n",
        "result = factorial(7)\n",
        "print(f\"The factorial is: {result}\")\n"
      ]
    },
    {
      "cell_type": "code",
      "source": [
        "factorial(.5)"
      ],
      "metadata": {
        "id": "3Q7teVUaL1kZ"
      },
      "execution_count": null,
      "outputs": []
    },
    {
      "cell_type": "code",
      "source": [
        "# Or use the built-in math method:\n",
        "import math\n",
        "\n",
        "print(math.factorial(8))"
      ],
      "metadata": {
        "id": "LOab-ieZleCT",
        "colab": {
          "base_uri": "https://localhost:8080/"
        },
        "outputId": "f0099008-caa6-4c26-ba33-542b3fab64b5"
      },
      "execution_count": 3,
      "outputs": [
        {
          "output_type": "stream",
          "name": "stdout",
          "text": [
            "40320\n"
          ]
        }
      ]
    },
    {
      "cell_type": "code",
      "source": [
        "factorial(-3)\n"
      ],
      "metadata": {
        "id": "mio-bYwIstYD"
      },
      "execution_count": null,
      "outputs": []
    },
    {
      "cell_type": "markdown",
      "source": [
        "# Fibonacci Sequence\n",
        "\n",
        "A Fibonacci sequence is a series of numbers where each number is the sum of the two previous numbers. The sequence starts with 0 and 1, and then continues with 1, 2, 3, 5, 8, 13, 21, and so on."
      ],
      "metadata": {
        "id": "XLCl3HgM_TWe"
      }
    },
    {
      "cell_type": "code",
      "source": [
        "def fibonacci(n):\n",
        "  # Base cases: F(0) = 0, F(1) = 1\n",
        "  if n == 0:\n",
        "    return 0\n",
        "  elif n == 1:\n",
        "    return 1\n",
        "  else:\n",
        "    # Recursive case: F(n) = F(n-1) + F(n-2)\n",
        "    return fibonacci(n - 1) + fibonacci(n - 2)\n",
        "\n",
        "# Example usage:\n",
        "for i in range(40):\n",
        "  print(f\"Fibonacci({i}) = {fibonacci(i)}\")\n"
      ],
      "metadata": {
        "id": "j1JeYYEz_LrV"
      },
      "execution_count": null,
      "outputs": []
    },
    {
      "cell_type": "code",
      "source": [
        "fiblist = []\n",
        "\n",
        "def fibonacci(n):\n",
        "  # Base cases: F(0) = 0, F(1) = 1\n",
        "  if n == 0:\n",
        "    return 0\n",
        "  elif n == 1:\n",
        "    return 1\n",
        "  else:\n",
        "    # Recursive case: F(n) = F(n-1) + F(n-2)\n",
        "    return fibonacci(n - 1) + fibonacci(n - 2)\n",
        "\n",
        "# Example usage:\n",
        "for i in range(20):\n",
        "  print(f\"Fibonacci({i}) = {fibonacci(i)}\")\n",
        "  fiblist.append(fibonacci(i))\n",
        "\n",
        "print(fiblist)"
      ],
      "metadata": {
        "id": "XaKcnTa1hZpL",
        "colab": {
          "base_uri": "https://localhost:8080/"
        },
        "outputId": "63e0e58a-a518-4458-aa99-2f74d2afffa6"
      },
      "execution_count": 18,
      "outputs": [
        {
          "output_type": "stream",
          "name": "stdout",
          "text": [
            "Fibonacci(0) = 0\n",
            "Fibonacci(1) = 1\n",
            "Fibonacci(2) = 1\n",
            "Fibonacci(3) = 2\n",
            "Fibonacci(4) = 3\n",
            "Fibonacci(5) = 5\n",
            "Fibonacci(6) = 8\n",
            "Fibonacci(7) = 13\n",
            "Fibonacci(8) = 21\n",
            "Fibonacci(9) = 34\n",
            "Fibonacci(10) = 55\n",
            "Fibonacci(11) = 89\n",
            "Fibonacci(12) = 144\n",
            "Fibonacci(13) = 233\n",
            "Fibonacci(14) = 377\n",
            "Fibonacci(15) = 610\n",
            "Fibonacci(16) = 987\n",
            "Fibonacci(17) = 1597\n",
            "Fibonacci(18) = 2584\n",
            "Fibonacci(19) = 4181\n",
            "[0, 1, 1, 2, 3, 5, 8, 13, 21, 34, 55, 89, 144, 233, 377, 610, 987, 1597, 2584, 4181]\n"
          ]
        }
      ]
    },
    {
      "cell_type": "code",
      "source": [
        "import matplotlib.pyplot as plt\n",
        "\n",
        "# Create a plot of the Fibonacci numbers\n",
        "plt.plot(fiblist)\n",
        "\n",
        "# Set the title of the plot\n",
        "plt.title(\"Fibonacci Sequence\")\n",
        "\n",
        "# Set the x-axis label\n",
        "plt.xlabel(\"Index\")\n",
        "\n",
        "# Set the y-axis label\n",
        "plt.ylabel(\"Number\")\n",
        "\n",
        "# Show the plot\n",
        "plt.show()"
      ],
      "metadata": {
        "id": "LE_86rOoiJd2",
        "colab": {
          "base_uri": "https://localhost:8080/",
          "height": 493
        },
        "outputId": "15f1d820-d517-4b2d-a3dd-a9ae065edd59"
      },
      "execution_count": 17,
      "outputs": [
        {
          "output_type": "display_data",
          "data": {
            "text/plain": [
              "<Figure size 640x480 with 1 Axes>"
            ],
            "image/png": "[encoded data removed]"
          },
          "metadata": {}
        }
      ]
    },
    {
      "cell_type": "markdown",
      "source": [
        "# Binary Search\n",
        "\n",
        "A binary search is a search algorithm that finds the position of a target value within a sorted array. The algorithm works by repeatedly dividing the array in half until the target value is found."
      ],
      "metadata": {
        "id": "NoP8Fy79_WKI"
      }
    },
    {
      "cell_type": "code",
      "source": [
        "def binary_search(arr, target, low, high):\n",
        "  '''\n",
        "  Takes 4 arguments:\n",
        "    an array,\n",
        "    a value that may or may not be in the array,\n",
        "    and bounds on a range of indices (low to high) where the function will look for the value.\n",
        "\n",
        "  Returns index where the target value is found in the array,\n",
        "    or -1 if value is not in array.\n",
        "  '''\n",
        "\n",
        "#  print(low,high)\n",
        "\n",
        "  # Base case: if low is greater than high, the target is not in the array\n",
        "  if low > high:\n",
        "    return -1\n",
        "\n",
        "  mid = (low + high) // 2\n",
        "\n",
        "  # Base case: if the middle element is the target, return its index\n",
        "  if arr[mid] == target:\n",
        "    return mid\n",
        "  elif arr[mid] > target:\n",
        "    # Recursive case: search the left half of the array\n",
        "    return binary_search(arr, target, low, mid - 1)\n",
        "  else:\n",
        "    # Recursive case: search the right half of the array\n",
        "    return binary_search(arr, target, mid + 1, high)\n",
        "\n",
        "# Example usage:\n",
        "my_list = [1, 3, 4, 15, 26, 27, 38, 39, 50]\n",
        "target_element = 9\n",
        "result = binary_search(my_list, target_element, 0, len(my_list) - 1)\n",
        "\n",
        "if result != -1:\n",
        "  print(f\"Element {target_element} found at index {result}\")\n",
        "else:\n",
        "  print(f\"Element {target_element} not found in the list.\")\n"
      ],
      "metadata": {
        "id": "vxztkIG6_PYT"
      },
      "execution_count": null,
      "outputs": []
    },
    {
      "cell_type": "markdown",
      "source": [
        "Write a recursive function that takes two positive integers `a` and `b` and multiplies them together by adding `a` to itself `b` times.\n",
        "\n",
        "The idea:  if `b == 1` then the product is `a`.  If `b>1` then the product is what you get by adding `a` to `a * (b-1)`."
      ],
      "metadata": {
        "id": "oYiD3kEsOTXT"
      }
    },
    {
      "cell_type": "code",
      "source": [],
      "metadata": {
        "id": "zNXYpv5NOS65"
      },
      "execution_count": 22,
      "outputs": []
    },
    {
      "cell_type": "code",
      "source": [],
      "metadata": {
        "id": "TQ0eB8trPxm0"
      },
      "execution_count": null,
      "outputs": []
    },
    {
      "cell_type": "markdown",
      "source": [
        "Write a recursive function that takes two positive integers `a` and `b` and returns the quotient `q` and remainder `r` obtained when `a` is divided by `b`.\n",
        "\n",
        "Hints:  \n",
        "1. If `a<b` then what should `q` and `r` be?\n",
        "\n",
        "2. If `a>b` then think about how `q` and `r` are related to the values you would get from dividing `a-b` by `b`."
      ],
      "metadata": {
        "id": "OgXHgr8DTksF"
      }
    },
    {
      "cell_type": "code",
      "source": [],
      "metadata": {
        "id": "yMCIxbjuTkVm"
      },
      "execution_count": null,
      "outputs": []
    }
  ]
}