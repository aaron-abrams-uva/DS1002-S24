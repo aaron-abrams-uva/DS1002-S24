{
  "cells": [
    {
      "cell_type": "markdown",
      "metadata": {
        "id": "view-in-github",
        "colab_type": "text"
      },
      "source": [
        "<a href=\"https://colab.research.google.com/github/aaron-abrams-uva/DS1002-S24/blob/main/Python/Classes.ipynb\" target=\"_parent\"><img src=\"https://colab.research.google.com/assets/colab-badge.svg\" alt=\"Open In Colab\"/></a>"
      ]
    },
    {
      "cell_type": "markdown",
      "source": [
        "# Classes in Python\n",
        "\n",
        "Python is an object-oriented language.  Most languages you will ever work with are object-oriented languages.  This means (among other things) that there are different types of objects, and what you can do with an object depends on what type of object it is.  Another word for type is `class`.\n",
        "\n",
        "Note:  `type` and `class` are technically slightly different but the distinction is mostly historical.\n",
        "\n",
        "Examples of types you already know about are `str`, `int`, `list`, etc.  We have also called these \"data types.\"  \n",
        "\n",
        "The beauty of object-oriented languages is that you, the developer, can define your own classes.  \n",
        "(In some sense this is the difference between a `type` and a `class`: the `type`s are built in, whereas `class`es are defined by the programmer.  This is not entirely true.)  \n",
        "Defining a class is like bringing a new species of objects into being.  \n",
        "\n",
        "\n",
        "Resources:  \n",
        "[Documentation](https://docs.python.org/3/tutorial/classes.html)  \n",
        "[w3schools](https://www.w3schools.com/python/python_classes.asp)  \n",
        "[Digital Ocean](https://www.digitalocean.com/community/tutorials/python-str-repr-functions)\n"
      ],
      "metadata": {
        "id": "7d2-ny9qNeOu"
      }
    },
    {
      "cell_type": "code",
      "source": [
        "x = 17\n",
        "print(x)\n",
        "print(type(x))\n",
        "print(type(int))"
      ],
      "metadata": {
        "id": "sK_FYFYbNNTN"
      },
      "execution_count": null,
      "outputs": []
    },
    {
      "cell_type": "code",
      "source": [
        "class Pig:\n",
        "  y = 17\n",
        "\n",
        "# print(y)\n",
        "# print(Pig)\n",
        "# print(type(Pig))"
      ],
      "metadata": {
        "id": "h7KYNGFjMw5m"
      },
      "execution_count": null,
      "outputs": []
    },
    {
      "cell_type": "code",
      "source": [
        "obj = Pig()"
      ],
      "metadata": {
        "id": "SU5GxlAiPFCG"
      },
      "execution_count": null,
      "outputs": []
    },
    {
      "cell_type": "code",
      "source": [
        "# print(Pig)\n",
        "# print(obj)\n",
        "# print(obj.y)"
      ],
      "metadata": {
        "id": "a471lKadNFaG"
      },
      "execution_count": null,
      "outputs": []
    },
    {
      "cell_type": "markdown",
      "source": [
        "## `__init__`\n",
        "\n",
        "Every class has this function built in.\n",
        "The `__init__` function is executed whenever the class is instantiated (called).  You can use it to assign values to properties of the object or to do other operations.\n",
        "\n",
        "> The term `self` is used by convention to refer to the object being instantiated at the moment, whose name is unknown to the programmer.  This is *always* the first argument of the `__init__` function.\n",
        "\n",
        "If you are familiar with java or javascript, `self` corresponds to `this` in those languages."
      ],
      "metadata": {
        "id": "TSH0pz0RUw_k"
      }
    },
    {
      "cell_type": "code",
      "source": [
        "Pig.__init__"
      ],
      "metadata": {
        "id": "mXtPHWe6U5VU"
      },
      "execution_count": null,
      "outputs": []
    },
    {
      "cell_type": "code",
      "source": [
        "Pig.__doc__"
      ],
      "metadata": {
        "id": "suzUAyk0VY4a"
      },
      "execution_count": null,
      "outputs": []
    },
    {
      "cell_type": "markdown",
      "source": [
        "Let's make a class with an `__init__` function."
      ],
      "metadata": {
        "id": "62dLaKQmWY8L"
      }
    },
    {
      "cell_type": "code",
      "execution_count": null,
      "metadata": {
        "collapsed": true,
        "id": "rgYdDmEmMfem"
      },
      "outputs": [],
      "source": [
        "class Robot:\n",
        "    pass\n",
        "    # def __init__(self, name, color, weight):\n",
        "        # self.name = name\n",
        "        # self.color = color\n",
        "        # self.weight = weight\n",
        "\n"
      ]
    },
    {
      "cell_type": "code",
      "execution_count": null,
      "metadata": {
        "collapsed": true,
        "id": "Bva-sl5cMfeo"
      },
      "outputs": [],
      "source": [
        "r1 = Robot()\n",
        "r1.name = \"Tom\"\n",
        "r1.color = \"red\"\n",
        "r1.weight = 30\n",
        "\n",
        "r2 = Robot()\n",
        "r2.name = \"Jerry\"\n",
        "r2.color = \"blue\"\n",
        "r2.weight = 40\n",
        "\n",
        "# r1 = Robot(\"Tom\", \"red\", 30)\n",
        "# r2 = Robot(\"Jerry\", \"blue\", 40)\n",
        "\n",
        "print(r1)\n",
        "print(r1.name)\n",
        "print(r2.weight)"
      ]
    },
    {
      "cell_type": "markdown",
      "source": [
        "## `__str__`\n",
        "\n",
        "The next two methods are similar:  they both define how an object should be represented.  \n",
        "\n",
        "The `__str__` function defines how an object should be represented as a string.  This function is designed to help the user.\n",
        "\n",
        "The `__repr__` function (coming) defines how the object should be represented to the computer.  The object should be able to be reconstructed from its `__repr__` function."
      ],
      "metadata": {
        "id": "HP4nrUMSX4rI"
      }
    },
    {
      "cell_type": "code",
      "source": [
        "class Robot:\n",
        "    # pass\n",
        "    def __init__(self, name, color, weight):\n",
        "        self.name = name\n",
        "        self.color = color\n",
        "        self.weight = weight\n",
        "\n",
        "    # def __str__(self):\n",
        "    #   return f\"{self.name} ({self.color})\"\n"
      ],
      "metadata": {
        "id": "COdeAjjBYnbd"
      },
      "execution_count": null,
      "outputs": []
    },
    {
      "cell_type": "code",
      "source": [
        "r1 = Robot(\"Tom\", \"red\", 30)\n",
        "r2 = Robot(\"Jerry\", \"blue\", 40)\n",
        "\n",
        "#  The __str__ function can be called in various ways.\n",
        "print(r1)\n",
        "str(r1)\n",
        "\n",
        "# type(str(r1))\n"
      ],
      "metadata": {
        "id": "h8IeYeGjYy3D"
      },
      "execution_count": null,
      "outputs": []
    },
    {
      "cell_type": "markdown",
      "source": [
        "## Write a class\n",
        "\n",
        "Write a class called `Patient` with attributes `LastName`, `FirstName`, `age`,`weight`. Make a `str` function that returns a string of the form 'LastName, age'.\n",
        "\n",
        "```\n",
        ">actor=Patient('Reeves', 'Keanu', 57, 180)\n",
        ">actor.FirstName\n",
        "'Keanu'\n",
        "\n",
        ">actor.weight\n",
        "180\n",
        "\n",
        ">actor\n",
        "Reeves, 57\n",
        "```"
      ],
      "metadata": {
        "id": "U9xITw4yC35D"
      }
    },
    {
      "cell_type": "code",
      "source": [],
      "metadata": {
        "id": "I03Gm0B6L6Yv"
      },
      "execution_count": null,
      "outputs": []
    },
    {
      "cell_type": "markdown",
      "source": [
        "## `__repr__`\n",
        "\n",
        "Whereas the `__str__` method returns a human-readable string, this function returns a computer-readable string.  \n",
        "Often, it is designed so that it can be used to recreate the object.  \n",
        "Example:  A `datetime.datetime` object has both `__str__` and `__repr__` methods built in.  Compare here:"
      ],
      "metadata": {
        "id": "0GteM4g36NE_"
      }
    },
    {
      "cell_type": "code",
      "source": [
        "import datetime\n",
        "\n",
        "mydate = datetime.datetime.now()\n",
        "\n",
        "print(\"__str__() string: \", mydate.__str__())\n",
        "print(\"str() string: \", str(mydate))\n",
        "\n",
        "print('\\n')\n",
        "\n",
        "print(\"__repr__() string: \", mydate.__repr__())\n",
        "print(\"repr() string: \", repr(mydate))\n"
      ],
      "metadata": {
        "id": "6wZhrOZY-Cpm"
      },
      "execution_count": null,
      "outputs": []
    },
    {
      "cell_type": "code",
      "source": [
        "whenwasit = repr(mydate)\n",
        "\n",
        "# print(whenwasit)\n",
        "# print(type(whenwasit))\n",
        "# print(str(whenwasit))\n",
        "\n",
        "# print('-'*40)\n",
        "\n",
        "# whenagain = eval(repr(mydate))\n",
        "\n",
        "# print(whenagain)\n",
        "# print(type(whenagain))\n",
        "# print(str(whenagain))"
      ],
      "metadata": {
        "id": "PBcZP2HQ-oOs"
      },
      "execution_count": null,
      "outputs": []
    },
    {
      "cell_type": "markdown",
      "source": [
        "You can write your own `__repr__` function for a new class.\n"
      ],
      "metadata": {
        "id": "TCPOChzk_ux1"
      }
    },
    {
      "cell_type": "code",
      "source": [
        "class Robot:\n",
        "    # pass\n",
        "    def __init__(self, name, color, weight):\n",
        "        self.name = name\n",
        "        self.color = color\n",
        "        self.weight = weight\n",
        "\n",
        "    # def __str__(self):\n",
        "    #   return f\"{self.name} is a {self.color} robot\"\n",
        "\n",
        "    # def __repr__(self):\n",
        "    #   return f'Robot(\"{self.name}\", {self.color}, {self.weight})'\n",
        "\n",
        "r1 = Robot(\"Tom\", \"red\", 30)\n",
        "\n",
        "print(str(r1))\n",
        "print(repr(r1))"
      ],
      "metadata": {
        "id": "m-GC6gYm_8m8"
      },
      "execution_count": null,
      "outputs": []
    },
    {
      "cell_type": "markdown",
      "source": [
        "### Recap\n",
        "We have seen that `__str__` is designed to return a human-readable string for the user's benefit,  \n",
        "whereas `__repr__` is designed to return a computer-readable string that (when evaluated) is a valid Python expression that could be used to recreate the object."
      ],
      "metadata": {
        "id": "P2ibdX8_BNH2"
      }
    },
    {
      "cell_type": "markdown",
      "source": [
        "## Exercise:\n",
        "\n",
        "Add a `__repr__` function to your `Patient` class so that the command  \n",
        "`eval(repr(testpatient))`  \n",
        "recreates the object `testpatient`.\n"
      ],
      "metadata": {
        "id": "v1cNcyvVNIt0"
      }
    },
    {
      "cell_type": "code",
      "source": [],
      "metadata": {
        "id": "m0qMAO7LNg0u"
      },
      "execution_count": null,
      "outputs": []
    },
    {
      "cell_type": "markdown",
      "source": [
        "## Object methods\n",
        "\n",
        "A method is a function that belongs to an object.  In a class you can define methods that the objects of the class will have.  An example:"
      ],
      "metadata": {
        "id": "TPNussibZVu0"
      }
    },
    {
      "cell_type": "code",
      "source": [
        "class Robot:\n",
        "    # pass\n",
        "    def __init__(self, name, color, weight):\n",
        "        self.name = name\n",
        "        self.color = color\n",
        "        self.weight = weight\n",
        "\n",
        "    def __str__(self):\n",
        "      return f\"{self.name} ({self.color})\"\n",
        "\n",
        "    def introduce(self):\n",
        "        print(\"My name is \" + self.name)"
      ],
      "metadata": {
        "id": "HA167Bo7ZlGJ"
      },
      "execution_count": null,
      "outputs": []
    },
    {
      "cell_type": "code",
      "source": [
        "r1 = Robot(\"Tom\", \"red\", 30)\n",
        "r2 = Robot(\"Jerry\", \"blue\", 40)\n"
      ],
      "metadata": {
        "id": "SsCzbR_9Z3XZ"
      },
      "execution_count": null,
      "outputs": []
    },
    {
      "cell_type": "code",
      "execution_count": null,
      "metadata": {
        "id": "Ar-jG-GBMfeo"
      },
      "outputs": [],
      "source": [
        "r1.introduce()\n",
        "r2.introduce()"
      ]
    },
    {
      "cell_type": "markdown",
      "source": [
        "## Modifying objects\n"
      ],
      "metadata": {
        "id": "w0Mj4ab8aMSh"
      }
    },
    {
      "cell_type": "code",
      "source": [
        "print(r1)\n",
        "r1.color = \"yellow\"\n",
        "print(r1)"
      ],
      "metadata": {
        "id": "6JoQX80eaQL6"
      },
      "execution_count": null,
      "outputs": []
    },
    {
      "cell_type": "code",
      "source": [
        "class Robot:\n",
        "    # pass\n",
        "    def __init__(self, name, color, weight):\n",
        "        self.name = name\n",
        "        self.color = color\n",
        "        self.weight = weight\n",
        "\n",
        "    def __str__(self):\n",
        "      return f\"{self.name} ({self.color})\"\n",
        "\n",
        "    def introduce(self):\n",
        "        print(\"My name is \" + self.name)\n",
        "\n",
        "    def add_weight(self,amount=1):\n",
        "        self.weight += amount\n",
        "\n",
        "r1 = Robot(\"Tom\", \"red\", 30)\n"
      ],
      "metadata": {
        "id": "_tdZYrGRE_s5"
      },
      "execution_count": null,
      "outputs": []
    },
    {
      "cell_type": "code",
      "source": [
        "r1.weight\n",
        "r1.add_weight(10)\n",
        "r1.weight"
      ],
      "metadata": {
        "id": "p67A5vfsFOKc"
      },
      "execution_count": null,
      "outputs": []
    },
    {
      "cell_type": "markdown",
      "source": [
        "![](https://images.spiceworks.com/wp-content/uploads/2022/09/04152400/OOP-Implementation.png)"
      ],
      "metadata": {
        "id": "x6out39nT9An"
      }
    },
    {
      "cell_type": "code",
      "source": [
        "# from PIL import Image\n",
        "# import requests\n",
        "# url = 'https://images.spiceworks.com/wp-content/uploads/2022/09/04152400/OOP-Implementation.png'\n",
        "# im = Image.open(requests.get(url, stream=True).raw)\n",
        "# im\n"
      ],
      "metadata": {
        "id": "ub5tUp0CQtHT"
      },
      "execution_count": null,
      "outputs": []
    }
  ],
  "metadata": {
    "kernelspec": {
      "display_name": "Python 3",
      "language": "python",
      "name": "python3"
    },
    "language_info": {
      "codemirror_mode": {
        "name": "ipython",
        "version": 3
      },
      "file_extension": ".py",
      "mimetype": "text/x-python",
      "name": "python",
      "nbconvert_exporter": "python",
      "pygments_lexer": "ipython3",
      "version": "3.9.6"
    },
    "colab": {
      "provenance": [],
      "include_colab_link": true
    }
  },
  "nbformat": 4,
  "nbformat_minor": 0
}