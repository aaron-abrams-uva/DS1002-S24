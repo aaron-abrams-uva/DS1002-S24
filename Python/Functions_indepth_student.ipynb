{
  "cells": [
    {
      "cell_type": "markdown",
      "metadata": {
        "id": "view-in-github",
        "colab_type": "text"
      },
      "source": [
        "<a href=\"https://colab.research.google.com/github/aaron-abrams-uva/DS1002-S24/blob/main/Python/Functions_indepth_student.ipynb\" target=\"_parent\"><img src=\"https://colab.research.google.com/assets/colab-badge.svg\" alt=\"Open In Colab\"/></a>"
      ]
    },
    {
      "cell_type": "markdown",
      "metadata": {
        "id": "pwrqpQn0iYhf"
      },
      "source": [
        "## Functions, a deeper look\n",
        "\n",
        "```\n",
        "  University of Virginia\n",
        "  Programming for Data Science\n",
        "  Updated 03/31/2024\n",
        "```\n",
        "\n",
        "### PREREQUISITES\n",
        "- data types\n",
        "- variables\n",
        "- `if` statement\n",
        "- conditional operators\n",
        "- `list comprehension` (not essential here)\n",
        "\n",
        "\n",
        "### SOURCES\n",
        "- Python built-in functions  \n",
        "https://docs.python.org/3/library/functions.html\n",
        "\n",
        "\n",
        "- Some good function examples and details  \n",
        "https://www.w3schools.com/python/python_functions.asp\n",
        "\n",
        "\n",
        "- Default arguments  \n",
        "https://www.geeksforgeeks.org/default-arguments-in-python/  \n",
        "\n",
        "\n",
        "- Details on the function `return` statement  \n",
        "https://realpython.com/python-return-statement/#understanding-the-python-return-statement\n",
        "\n",
        "\n",
        "- Global versus Local Variables  \n",
        "https://www.geeksforgeeks.org/global-local-variables-python/?ref=lbp\n",
        "\n",
        "\n",
        "### OBJECTIVES\n",
        "- Explain the benefits of functions\n",
        "- Illustrate how to use built-in functions\n",
        "- Illustrate how to create and use your own (user-defined) functions\n",
        "- Demonstrate the scope and lifetime of a variable\n",
        "- Illustrate global and local nature of variables through functions\n",
        "- Demonstrate function parameter use\n",
        "- Provide recommendations on how to create and document functions\n",
        "- Show how to print and write docstrings\n",
        "\n",
        "\n",
        "### CONCEPTS\n",
        "\n",
        "- functions\n",
        "- built-in functions\n",
        "- user-defined functions\n",
        "- variable scope\n",
        "- global versus local variables\n",
        "- default arguments\n",
        "- *args\n",
        "- function call\n",
        "- docstring\n",
        "\n",
        "---\n",
        "\n",
        "## I. Introduction to Functions\n",
        "\n",
        "Functions take input and produce output. They contain a block of code to do their work.  \n",
        "They make transformations happen ... from simple to complex.\n",
        "\n",
        "Python provides many built-in functions.  \n",
        "There are also many packages to bring in additional functions.\n",
        "\n",
        "NOTE: function inputs are called both `parameters` and `arguments`."
      ]
    },
    {
      "cell_type": "markdown",
      "metadata": {
        "id": "8cBukW7ZiYhg"
      },
      "source": [
        "**A SMALL EXAMPLE**\n",
        "\n",
        "This small function is built in to Python: `bool`\n",
        "\n",
        "Documentation: [Python built-in functions](https://docs.python.org/3/library/functions.html)  \n",
        "\n",
        "Takes an argument $x$ and returns True or False.  "
      ]
    },
    {
      "cell_type": "code",
      "execution_count": null,
      "metadata": {
        "id": "R0SHTW08iYhg"
      },
      "outputs": [],
      "source": [
        "# set a variable and pass into a conditional statement\n",
        "\n",
        "x = 3\n",
        "bool(x < 4)"
      ]
    },
    {
      "cell_type": "code",
      "execution_count": null,
      "metadata": {
        "id": "7sw_0hnHiYhg"
      },
      "outputs": [],
      "source": [
        "bool(x >= 4)"
      ]
    },
    {
      "cell_type": "code",
      "execution_count": null,
      "metadata": {
        "id": "Chfh1ORHiYhh"
      },
      "outputs": [],
      "source": [
        "help(bool)"
      ]
    },
    {
      "cell_type": "markdown",
      "metadata": {
        "id": "ysKcSG9miYhh"
      },
      "source": [
        "Let's get more elaborate, defining x to be a list of integers. This breaks."
      ]
    },
    {
      "cell_type": "code",
      "execution_count": null,
      "metadata": {
        "id": "EECj55dUiYhh"
      },
      "outputs": [],
      "source": [
        "x = [3,4]       # define a list of integers\n",
        "thr = 4         # define an integer\n",
        "x >= thr        # try to compare each value to an integer\n"
      ]
    },
    {
      "cell_type": "markdown",
      "metadata": {
        "id": "LPibi0y0iYhh"
      },
      "source": [
        "This broke because the operator `>=` doesn't support the comparison.  "
      ]
    },
    {
      "cell_type": "markdown",
      "metadata": {
        "id": "ZxNz1zlQiYhh"
      },
      "source": [
        "## II. Creating Functions\n",
        "\n",
        "Let's write a function to compare the list against a threshold."
      ]
    },
    {
      "cell_type": "code",
      "source": [
        "# type(sum)\n",
        "# help(sum)\n",
        "# print(sum.__doc__)"
      ],
      "metadata": {
        "id": "MlJhXHnq4eEM"
      },
      "execution_count": null,
      "outputs": []
    },
    {
      "cell_type": "code",
      "execution_count": null,
      "metadata": {
        "id": "A-pPSAWpiYhh"
      },
      "outputs": [],
      "source": [
        "def vals_greater_than_or_equal_to_threshold(vals, thresh):\n",
        "    '''\n",
        "    PURPOSE: Given a list of values, compare each value against a threshold\n",
        "\n",
        "    INPUTS\n",
        "    vals    list of ints or floats\n",
        "    thresh  int or float\n",
        "\n",
        "    OUTPUT\n",
        "    bools  list of booleans\n",
        "    '''\n",
        "\n",
        "    bools = [val >= thresh for val in vals]\n",
        "    return bools"
      ]
    },
    {
      "cell_type": "markdown",
      "metadata": {
        "id": "fKh4CY2GiYhh"
      },
      "source": [
        "**Let's break down the components:**\n",
        "- the function definition starts with `def`, followed by name, one or more arguments in parenthesis, and then a colon.\n",
        "- next comes a `docstring` to provide annotation\n",
        "- the function body follows\n",
        "- lastly is a `return` statement\n",
        "\n",
        "The `function call` allows for function use. It consists of function name and required arguments:\n",
        "\n",
        "`vals_greater_than_or_equal_to_threshold(arg1, arg2)` where `arg1`, `arg2` are arbitrary names."
      ]
    },
    {
      "cell_type": "markdown",
      "metadata": {
        "id": "gVvykZQviYhh"
      },
      "source": [
        "#### docstring\n",
        "\n",
        "- A `docstring` is a string that occurs as first statement in module, function, class, or method definition\n",
        "- Saved in `__doc__` attribute\n",
        "- Needs to be indented\n",
        "- ``` '''enclosed in triple quotes like this''' ```\n",
        "\n",
        "**We gave this function a descriptive docstring to:**\n",
        "\n",
        "- explain its purpose\n",
        "- name each input and output, and give their data types"
      ]
    },
    {
      "cell_type": "code",
      "source": [
        "# Call the docstring to read about a function\n",
        "print(bool.__doc__)"
      ],
      "metadata": {
        "id": "_yAjwpBK6O1u"
      },
      "execution_count": null,
      "outputs": []
    },
    {
      "cell_type": "markdown",
      "metadata": {
        "id": "7jv-faHxiYhh"
      },
      "source": [
        "---"
      ]
    },
    {
      "cell_type": "markdown",
      "metadata": {
        "id": "pktQhKifiYhh"
      },
      "source": [
        "The function body used a `list comprehension` for the compare:\n",
        "\n",
        "`[val >= thresh for val in vals]`\n",
        "\n",
        "**Let's test our function**"
      ]
    },
    {
      "cell_type": "code",
      "execution_count": null,
      "metadata": {
        "id": "8AhHzhMgiYhh"
      },
      "outputs": [],
      "source": [
        "# validate that it works for ints\n",
        "\n",
        "x = [3, 4]\n",
        "thr = 4\n",
        "\n",
        "vals_greater_than_or_equal_to_threshold(x, thr)"
      ]
    },
    {
      "cell_type": "code",
      "execution_count": null,
      "metadata": {
        "id": "COZGpj27iYhh"
      },
      "outputs": [],
      "source": [
        "# validate that it works for floats\n",
        "\n",
        "x = [3.0, 4.2]\n",
        "thr = 4.2\n",
        "\n",
        "vals_greater_than_or_equal_to_threshold(x, thr)"
      ]
    },
    {
      "cell_type": "markdown",
      "metadata": {
        "id": "GeWMQNEsiYhh"
      },
      "source": [
        "This gives correct results and does exactly what we want.  "
      ]
    },
    {
      "cell_type": "markdown",
      "metadata": {
        "id": "in16N9rXiYhh"
      },
      "source": [
        "**print the docstring**"
      ]
    },
    {
      "cell_type": "code",
      "execution_count": null,
      "metadata": {
        "id": "VKApgn6XiYhh"
      },
      "outputs": [],
      "source": [
        "print(vals_greater_than_or_equal_to_threshold.__doc__)"
      ]
    },
    {
      "cell_type": "markdown",
      "metadata": {
        "id": "4f5zLGXbiYhh"
      },
      "source": [
        "**print the help**"
      ]
    },
    {
      "cell_type": "code",
      "execution_count": null,
      "metadata": {
        "id": "ro9qsgsaiYhh"
      },
      "outputs": [],
      "source": [
        "help(vals_greater_than_or_equal_to_threshold)"
      ]
    },
    {
      "cell_type": "markdown",
      "metadata": {
        "id": "31jRwOfWiYhh"
      },
      "source": [
        "---\n",
        "\n",
        "**TRY FOR YOURSELF (UNGRADED EXERCISES)**"
      ]
    },
    {
      "cell_type": "markdown",
      "metadata": {
        "id": "moy_QjEViYhh"
      },
      "source": [
        "1) Write a function with these requirements:\n",
        "- has a sensible name\n",
        "- contains a docstring\n",
        "- takes two inputs: a string, and an integer\n",
        "- returns True if the string length is equal to the integer, else False\n",
        "\n",
        "2) Call the function, passing inputs:  \n",
        "- `\"is this text the right length?\"` for the string\n",
        "- `30` for the integer\n",
        "\n",
        "Verify the output is True.  \n",
        "Try other combinations."
      ]
    },
    {
      "cell_type": "code",
      "execution_count": null,
      "metadata": {
        "id": "XCFT78u7iYhh"
      },
      "outputs": [],
      "source": [
        "# prompt: 1) Write a function with these requirements:\n",
        "# - has a sensible name\n",
        "# - contains a docstring\n",
        "# - takes two inputs: a string, and an integer\n",
        "# - returns True if the string length is equal to the integer, else False\n",
        "\n"
      ]
    },
    {
      "cell_type": "code",
      "execution_count": null,
      "metadata": {
        "scrolled": true,
        "id": "CftAMRDMiYhi"
      },
      "outputs": [],
      "source": [
        "# 2) Call the function you just wrote, passing as inputs:\n",
        "# the string \"is this text the right length?\"\n",
        "# and the integer 30\n",
        "\n"
      ]
    },
    {
      "cell_type": "markdown",
      "metadata": {
        "id": "lqVSloXDiYhi"
      },
      "source": [
        "---\n"
      ]
    },
    {
      "cell_type": "markdown",
      "metadata": {
        "id": "5RCRce0_iYhi"
      },
      "source": [
        "## III. Passing Parameters\n",
        "\n",
        "**Functions need to be called with correct number of parameters**\n",
        "  \n",
        "This function requires two params, but the function call includes only one param\n"
      ]
    },
    {
      "cell_type": "code",
      "execution_count": null,
      "metadata": {
        "id": "fZUJYTBliYhi"
      },
      "outputs": [],
      "source": [
        "## function requiring 2 arguments\n",
        "def fcn_bad_args(x, y):\n",
        "    return x+y\n",
        "\n",
        "# function call with only 1 of the 2 arguments\n",
        "fcn_bad_args(10)"
      ]
    },
    {
      "cell_type": "markdown",
      "metadata": {
        "id": "iRRKVuiTiYhi"
      },
      "source": [
        "**When calling a function, parameter order matters.**"
      ]
    },
    {
      "cell_type": "code",
      "execution_count": null,
      "metadata": {
        "id": "moaHmNmWiYhi"
      },
      "outputs": [],
      "source": [
        "x = 1\n",
        "y = 2\n",
        "\n",
        "# function with order of x then y\n",
        "def fcn_swapped_args(x, y):\n",
        "    out = 5 * x + y\n",
        "    return out\n",
        "\n",
        "# call function in correct order\n",
        "print('fcn_swapped_args(x,y) =', fcn_swapped_args(x,y))\n",
        "print('fcn_swapped_args(1,2) =', fcn_swapped_args(1,2))\n",
        "\n",
        "# call function in incorrect order\n",
        "print('fcn_swapped_args(y,x) =', fcn_swapped_args(y,x))\n",
        "print('fcn_swapped_args(2,1) =', fcn_swapped_args(2,1))"
      ]
    },
    {
      "cell_type": "markdown",
      "metadata": {
        "id": "GXEHQpFxiYhi"
      },
      "source": [
        "Generally it's best to keep parameters in order.  \n",
        "\n",
        "You can swap the order by putting the parameter names in the function call."
      ]
    },
    {
      "cell_type": "code",
      "execution_count": null,
      "metadata": {
        "id": "FATEk49QiYhi"
      },
      "outputs": [],
      "source": [
        "x1 = 1\n",
        "y1 = 2\n",
        "\n",
        "# call parameter names in function call\n",
        "fcn_swapped_args(y=y1, x=x1)"
      ]
    },
    {
      "cell_type": "markdown",
      "metadata": {
        "id": "pguDfat9iYhi"
      },
      "source": [
        "**Weirdness Alert**\n",
        "\n",
        "Note that the same name can be used for the parameter names and the variables passed to them.\n",
        "\n",
        "The names themselves have nothing to do with each other!\n",
        "\n",
        "In other words, just because a function names an argument `x`, \\\n",
        "the variables passed to it don't have to name `x` or anything like it. \\\n",
        "They can even be named the same thing -- it does not matter."
      ]
    },
    {
      "cell_type": "code",
      "execution_count": null,
      "metadata": {
        "id": "wXAk3914iYhi"
      },
      "outputs": [],
      "source": [
        "foo = 1\n",
        "bar = 2\n",
        "\n",
        "fcn_swapped_args(foo, bar)\n",
        "\n",
        "# works even though function was written as fcn_swapped_arg(x, y)"
      ]
    },
    {
      "cell_type": "markdown",
      "metadata": {
        "id": "gG0H4XFgiYhi"
      },
      "source": [
        "## IV. Unpacking list-likes using  `*args`\n",
        "\n",
        "The `*` operator can be passed to avoid specifying the arguments individually.  This also allows for a variable *number* of arguments."
      ]
    },
    {
      "cell_type": "code",
      "execution_count": null,
      "metadata": {
        "id": "GWJUkt0NiYhi"
      },
      "outputs": [],
      "source": [
        "def show_arg_expansion(*models):\n",
        "\n",
        "    print(\"models          :\", models)\n",
        "    print(\"input arg type  :\",  type(models))\n",
        "    print(\"input arg length:\", len(models))\n",
        "    print(\"-----------------------------\")\n",
        "\n",
        "    for mod in models:\n",
        "        print(mod)\n",
        "\n"
      ]
    },
    {
      "cell_type": "markdown",
      "metadata": {
        "id": "1-F_nKl9iYhi"
      },
      "source": [
        "We can pass a tuple of values to the function..."
      ]
    },
    {
      "cell_type": "code",
      "execution_count": null,
      "metadata": {
        "id": "GFQ3TXbliYhi"
      },
      "outputs": [],
      "source": [
        "show_arg_expansion(\"logreg\", \"naive_bayes\", \"gbm\")"
      ]
    },
    {
      "cell_type": "markdown",
      "metadata": {
        "id": "P6r87diciYhi"
      },
      "source": [
        "You can pass a list to the function.\n",
        "\n",
        "If you want the elements unpacked, put * before the list."
      ]
    },
    {
      "cell_type": "code",
      "execution_count": null,
      "metadata": {
        "id": "ruipdu0wiYho"
      },
      "outputs": [],
      "source": [
        "models = [\"logreg\", \"naive_bayes\", \"gbm\"]\n",
        "show_arg_expansion(models)\n",
        "print('\\n')\n",
        "show_arg_expansion(*models)"
      ]
    },
    {
      "cell_type": "markdown",
      "metadata": {
        "id": "Bf1mbaOkiYho"
      },
      "source": [
        "**This approach allows your function to accept an arbitrary number of arguments**"
      ]
    },
    {
      "cell_type": "code",
      "execution_count": null,
      "metadata": {
        "id": "eUaGaNdQiYhp"
      },
      "outputs": [],
      "source": [
        "show_arg_expansion('a b c d e f g'.split())\n",
        "show_arg_expansion(*'a b c d e f g'.split())"
      ]
    },
    {
      "cell_type": "markdown",
      "metadata": {
        "id": "xckEFWq3iYhp"
      },
      "source": [
        "**The reverse is true, too.**\n",
        "\n",
        "You can use the `*` operator to pass list-like objects to a function that specifies its arguments."
      ]
    },
    {
      "cell_type": "code",
      "execution_count": null,
      "metadata": {
        "id": "6YEbcVy3iYhp"
      },
      "outputs": [],
      "source": [
        "def arg_expansion_example(x, y):\n",
        "    return x**y"
      ]
    },
    {
      "cell_type": "code",
      "execution_count": null,
      "metadata": {
        "id": "wU7NxYsziYhp"
      },
      "outputs": [],
      "source": [
        "my_args = [2, 8]\n",
        "arg_expansion_example(*my_args)"
      ]
    },
    {
      "cell_type": "markdown",
      "metadata": {
        "id": "0MEHR85ziYhp"
      },
      "source": [
        "But, the passed object must be the right length."
      ]
    },
    {
      "cell_type": "code",
      "execution_count": null,
      "metadata": {
        "id": "edIKHtO6iYhp"
      },
      "outputs": [],
      "source": [
        "my_args2 = [2, 8, 5]\n",
        "arg_expansion_example(*my_args2)"
      ]
    },
    {
      "cell_type": "markdown",
      "metadata": {
        "id": "0wBVmLYRiYhp"
      },
      "source": [
        "---\n",
        "\n",
        "**TRY FOR YOURSELF (UNGRADED EXERCISES)**"
      ]
    },
    {
      "cell_type": "markdown",
      "metadata": {
        "id": "uuyOJYEhiYhp"
      },
      "source": [
        "3) Write a function with these requirements:\n",
        "- takes *args for the input argument (like above)\n",
        "- squares each argument and prints the value of the square. (You can use a `for` loop like above.)\n",
        "- returns None\n",
        "\n",
        "Next, call the function, passing at least three integers"
      ]
    },
    {
      "cell_type": "code",
      "execution_count": null,
      "metadata": {
        "id": "sjrLjYwLiYhp"
      },
      "outputs": [],
      "source": [
        "def square_args(*vars):\n",
        "\n",
        "    for var in vars:\n",
        "        print(var**2)\n",
        "    return None\n",
        "\n",
        "square_args(2,3,8)"
      ]
    },
    {
      "cell_type": "markdown",
      "metadata": {
        "id": "wacWDG-_iYhp"
      },
      "source": [
        "---\n"
      ]
    },
    {
      "cell_type": "markdown",
      "metadata": {
        "id": "DuItUjJWiYhp"
      },
      "source": [
        "## V. Default Arguments"
      ]
    },
    {
      "cell_type": "markdown",
      "metadata": {
        "id": "zOX-dScLiYhp"
      },
      "source": [
        "`default arguments` set the value when left unspecified."
      ]
    },
    {
      "cell_type": "code",
      "execution_count": null,
      "metadata": {
        "id": "PhA5ZjvZiYhp"
      },
      "outputs": [],
      "source": [
        "def significant_digits(value, printing=True):\n",
        "    rounded = round(value, 2)\n",
        "\n",
        "    if printing:\n",
        "      print('rounded value =', rounded)\n",
        "    return rounded"
      ]
    },
    {
      "cell_type": "code",
      "execution_count": null,
      "metadata": {
        "id": "eSoSgF9YiYhp"
      },
      "outputs": [],
      "source": [
        "v = 0.912\n",
        "\n",
        "res = significant_digits(pr)\n",
        "# res = significant_digits(pr, False)"
      ]
    },
    {
      "cell_type": "code",
      "source": [
        "res"
      ],
      "metadata": {
        "id": "BvHUomRM90jd"
      },
      "execution_count": null,
      "outputs": []
    },
    {
      "cell_type": "markdown",
      "metadata": {
        "id": "gUL5UY1uiYhp"
      },
      "source": [
        "The function call didn't specify `printing`, so it defaulted to True.\n",
        "\n",
        "Default arguments must follow non-default arguments. This causes trouble:"
      ]
    },
    {
      "cell_type": "code",
      "execution_count": null,
      "metadata": {
        "id": "06tJnUQviYhp"
      },
      "outputs": [],
      "source": [
        "def significant_digits(value, printing=True, precision):\n",
        "    rounded = round(value, precision)\n",
        "\n",
        "    if printing:\n",
        "      print('rounded value =', rounded)\n",
        "    return rounded"
      ]
    },
    {
      "cell_type": "markdown",
      "metadata": {
        "id": "ECgpfITPiYhp"
      },
      "source": [
        "## VI. Returning Values\n",
        "\n",
        "Functions are not required to have return statement.\n",
        "If there is no return statement, function returns `None` object.  \n",
        "\n",
        "Functions can return no value (`None` object), one value, or many.  \n",
        "\n",
        "Any Python object can be returned.  "
      ]
    },
    {
      "cell_type": "code",
      "execution_count": null,
      "metadata": {
        "id": "fZtuJVPdiYhp"
      },
      "outputs": [],
      "source": [
        "# returns None, and prints.\n",
        "\n",
        "def fcn_nothing_to_return(x, y):\n",
        "    out = 'nothing to see here!'\n",
        "    print(out)\n"
      ]
    },
    {
      "cell_type": "code",
      "execution_count": null,
      "metadata": {
        "id": "p2l6oKBxiYhp",
        "colab": {
          "base_uri": "https://localhost:8080/"
        },
        "outputId": "e3ae59f1-a423-4be3-b489-f0d73c7788b8"
      },
      "outputs": [
        {
          "output_type": "stream",
          "name": "stdout",
          "text": [
            "nothing to see here!\n"
          ]
        }
      ],
      "source": [
        "fcn_nothing_to_return(x, y)"
      ]
    },
    {
      "cell_type": "code",
      "execution_count": null,
      "metadata": {
        "id": "1sYG6tFMiYhp"
      },
      "outputs": [],
      "source": [
        "r = fcn_nothing_to_return(1, 1)\n",
        "print(r)\n",
        "type(r)"
      ]
    },
    {
      "cell_type": "code",
      "execution_count": null,
      "metadata": {
        "id": "iSW-A_N1iYhp"
      },
      "outputs": [],
      "source": [
        "# returns three values\n",
        "\n",
        "def negate_coords(x, y, z):\n",
        "    return -x, -y, -z"
      ]
    },
    {
      "cell_type": "code",
      "execution_count": null,
      "metadata": {
        "id": "UQrSV9nKiYhp"
      },
      "outputs": [],
      "source": [
        "a,b,c = negate_coords(10,20,30)\n",
        "print('a=', a)\n",
        "print('b=', b)\n",
        "print('c=', c)"
      ]
    },
    {
      "cell_type": "markdown",
      "metadata": {
        "id": "ifsJheijiYhp"
      },
      "source": [
        "**If you don't need an output, use the dummy variable `_`**"
      ]
    },
    {
      "cell_type": "code",
      "execution_count": null,
      "metadata": {
        "id": "AgBl1V6TiYhp"
      },
      "outputs": [],
      "source": [
        "d,e,_ = negate_coords(10,20,30)\n",
        "print('d=', d)\n",
        "print('e=', e)"
      ]
    },
    {
      "cell_type": "markdown",
      "metadata": {
        "id": "AmIDwm-xiYhq"
      },
      "source": [
        "**Note:** For clarity purposes, it's generally a good idea to include return statements, even if not returning a value.  \n",
        "You can use `return` or `return None`."
      ]
    },
    {
      "cell_type": "markdown",
      "metadata": {
        "id": "AlIg9oEEiYhq"
      },
      "source": [
        "**Functions can contain multiple return statements**"
      ]
    },
    {
      "cell_type": "code",
      "execution_count": null,
      "metadata": {
        "id": "rbJKLgjQiYhq"
      },
      "outputs": [],
      "source": [
        "def absolute_value(num):\n",
        "    if num >= 0:\n",
        "        return num\n",
        "    return -num"
      ]
    },
    {
      "cell_type": "code",
      "execution_count": null,
      "metadata": {
        "id": "n66QsiX0iYhq"
      },
      "outputs": [],
      "source": [
        "absolute_value(-4)"
      ]
    },
    {
      "cell_type": "code",
      "execution_count": null,
      "metadata": {
        "id": "PBB4Rgl6iYhq"
      },
      "outputs": [],
      "source": [
        "absolute_value(4)"
      ]
    },
    {
      "cell_type": "markdown",
      "metadata": {
        "id": "h_NACzG_iYhq"
      },
      "source": [
        "For non-negative values, the first `return` is reached.  \n",
        "For negative values, the second `return` is reached."
      ]
    },
    {
      "cell_type": "markdown",
      "metadata": {
        "id": "BH_xyYdeiYhq"
      },
      "source": [
        "---\n",
        "\n",
        "**TRY FOR YOURSELF (UNGRADED EXERCISES)**"
      ]
    },
    {
      "cell_type": "markdown",
      "metadata": {
        "id": "LNS7qCZoiYhq"
      },
      "source": [
        "4) Write a small function that returns two outputs. Verify it works properly."
      ]
    },
    {
      "cell_type": "code",
      "execution_count": null,
      "metadata": {
        "id": "9OgG3s4viYhq"
      },
      "outputs": [],
      "source": []
    },
    {
      "cell_type": "markdown",
      "metadata": {
        "id": "BoiyBMfAiYhq"
      },
      "source": [
        "5) Define a function `step` with these requirements:\n",
        "- takes one numeric value as input\n",
        "- subtracts 5 from the value\n",
        "- returns 1 if the difference is nonnegative, else returns 0\n",
        "\n",
        "Call the function on different values to test it."
      ]
    },
    {
      "cell_type": "code",
      "execution_count": null,
      "metadata": {
        "jupyter": {
          "source_hidden": true
        },
        "id": "ialULi_ViYhq"
      },
      "outputs": [],
      "source": [
        "def step(x):\n",
        "    diff = x - 5\n",
        "    if diff >= 0:\n",
        "        return 1\n",
        "    return 0"
      ]
    },
    {
      "cell_type": "code",
      "execution_count": null,
      "metadata": {
        "id": "WQa1nMg7iYhq"
      },
      "outputs": [],
      "source": [
        "step(6)"
      ]
    },
    {
      "cell_type": "code",
      "execution_count": null,
      "metadata": {
        "id": "PZAyGUKmiYhq"
      },
      "outputs": [],
      "source": [
        "step(4)"
      ]
    },
    {
      "cell_type": "markdown",
      "metadata": {
        "id": "rGqz1rj1iYhq"
      },
      "source": [
        "---\n"
      ]
    },
    {
      "cell_type": "code",
      "source": [
        "del(a)"
      ],
      "metadata": {
        "id": "pA5CQBxCYMOR"
      },
      "execution_count": null,
      "outputs": []
    },
    {
      "cell_type": "markdown",
      "metadata": {
        "id": "M5ofH0wjiYhq"
      },
      "source": [
        "## VII. Variable Scope\n",
        "\n",
        "A variable's **scope** is the part of a program where it is **visible**.\n",
        "\n",
        "Visible means available or usable.\n",
        "\n",
        "If a variable is **in scope** to a function, it is visible the function.\n",
        "\n",
        "If it is **out of scope** to a function, it is not visible the function.\n",
        "\n",
        "When a variable is defined inside of a function, is is not visible outside of the function.\n",
        "\n",
        "We say such variables are **local** to the function.\n",
        "\n",
        "They are also removed from memory when the function completes."
      ]
    },
    {
      "cell_type": "code",
      "execution_count": null,
      "metadata": {
        "id": "xv-6GxpmiYhq"
      },
      "outputs": [],
      "source": [
        "def show_scope(x):\n",
        "    x = 10*x\n",
        "    z = 4\n",
        "    print('z inside function =', z)\n",
        "    print('memory address of z inside function =', id(z))\n",
        "    return x"
      ]
    },
    {
      "cell_type": "code",
      "execution_count": null,
      "metadata": {
        "id": "b-rPp26DiYhq"
      },
      "outputs": [],
      "source": [
        "show_scope(6)"
      ]
    },
    {
      "cell_type": "code",
      "execution_count": null,
      "metadata": {
        "id": "WPxisGHoiYhq"
      },
      "outputs": [],
      "source": [
        "print('z =', z)"
      ]
    },
    {
      "cell_type": "markdown",
      "metadata": {
        "id": "GPLOt-8ZiYhq"
      },
      "source": [
        "This code recognizes z from inside the function.\n",
        "  \n",
        "Calling it from outside, where it isn't defined, throws an error."
      ]
    },
    {
      "cell_type": "markdown",
      "metadata": {
        "id": "MEQu0vTEiYhq"
      },
      "source": [
        "If we define `z` and call the function, the update to `z` won't pass outside the function."
      ]
    },
    {
      "cell_type": "code",
      "execution_count": null,
      "metadata": {
        "id": "hy-7O-SIiYhq"
      },
      "outputs": [],
      "source": [
        "z = 2\n",
        "print('z outside:', id(z))\n",
        "out = show_scope(6)\n",
        "print('z = ', z)\n"
      ]
    },
    {
      "cell_type": "markdown",
      "metadata": {
        "id": "Qw_Ux3H6iYhq"
      },
      "source": [
        "### Local versus Global Variables\n",
        "\n",
        "It is helpful to have a good understanding of local versus global variables.  \n",
        "\n",
        "Not having this understanding can lead to surprises and confusion.  \n",
        "\n",
        "**Example 1: Variable defined outside function, used inside function**\n",
        "\n",
        "In the code below:  \n",
        "\n",
        "`x` is global and seen from inside the function.  \n",
        "`a` is local to the function. trying to print outside function throws error."
      ]
    },
    {
      "cell_type": "code",
      "execution_count": null,
      "metadata": {
        "id": "Shy4_1YJiYhq"
      },
      "outputs": [],
      "source": [
        "x = 10\n",
        "\n",
        "def fcn(a):\n",
        "    out = x + a\n",
        "    return(out)\n"
      ]
    },
    {
      "cell_type": "code",
      "execution_count": null,
      "metadata": {
        "id": "Wa7Nou2oiYhr"
      },
      "outputs": [],
      "source": [
        "print(fcn(6)) # works"
      ]
    },
    {
      "cell_type": "code",
      "execution_count": null,
      "metadata": {
        "id": "LzWya7D3iYhr"
      },
      "outputs": [],
      "source": [
        "print(a)      # fails"
      ]
    },
    {
      "cell_type": "markdown",
      "metadata": {
        "id": "_qKdTaTUiYhr"
      },
      "source": [
        "**Example 2: Variable defined outside function, updated and used inside function**\n",
        "\n",
        "`fcn` uses the local version of `x`"
      ]
    },
    {
      "cell_type": "code",
      "execution_count": null,
      "metadata": {
        "id": "M6ljfBCXiYhr"
      },
      "outputs": [],
      "source": [
        "x = 10\n",
        "\n",
        "def fcn(a):\n",
        "    x = 20\n",
        "    sum = x + a\n",
        "    print('x from fcn:', x)\n",
        "    return(sum)\n",
        "\n",
        "print('fcn(6):', fcn(6))\n",
        "print('x:', x)"
      ]
    },
    {
      "cell_type": "markdown",
      "metadata": {
        "id": "AIoU3FS_iYhr"
      },
      "source": [
        "**Example 3: Variable defined outside function. Inside function, print variable, update, and use**\n",
        "\n",
        "This one may be confusing. It fails!  \n",
        "\n",
        "Python treats `x` inside function as the local `x`.  \n",
        "The print() occurs before `x` is assigned, so it can't find `x`."
      ]
    },
    {
      "cell_type": "code",
      "execution_count": null,
      "metadata": {
        "id": "CgCgPEjSiYhr"
      },
      "outputs": [],
      "source": [
        "x = 10\n",
        "print(x)\n",
        "def fcn(a):\n",
        "    print('x from fcn, before update:', x)\n",
        "    x = 20\n",
        "    out = x + a\n",
        "    print('x from fcn, after update:', x)\n",
        "    return(out)\n",
        "\n",
        "print('fcn(6):', fcn(6))\n",
        "print('x:', x)"
      ]
    },
    {
      "cell_type": "markdown",
      "metadata": {
        "id": "ezZJ3GPIiYhr"
      },
      "source": [
        "The error can be fixed by referencing x as `global` inside function.\n",
        "\n",
        "*This is only necessary if we wish to reassign the variable!*  (Compare Example 1.)\n",
        "\n",
        "It is also useful when we want several functions to operate on the same variable"
      ]
    },
    {
      "cell_type": "code",
      "execution_count": null,
      "metadata": {
        "id": "WZpWaWqSiYhr"
      },
      "outputs": [],
      "source": [
        "x = 10\n",
        "\n",
        "def fcn(a):\n",
        "    global x    # add this to reference global x outside function\n",
        "    print('x from fcn, before update:', x)\n",
        "    x = 20\n",
        "    out = x + a\n",
        "    print('x from fcn, after update:', x)\n",
        "    return(out)\n",
        "\n",
        "print('fcn(6):', fcn(6))\n",
        "print('x:', x)"
      ]
    },
    {
      "cell_type": "markdown",
      "metadata": {
        "id": "dbhbmDuWiYhr"
      },
      "source": [
        "**TRY FOR YOURSELF (UNGRADED EXERCISES)**"
      ]
    },
    {
      "cell_type": "markdown",
      "metadata": {
        "id": "YA2Bg0NiiYhr"
      },
      "source": [
        "5) Define a function that creates and prints a variable.  \n",
        "Show that calling this variable outside the function produces an error."
      ]
    },
    {
      "cell_type": "code",
      "execution_count": null,
      "metadata": {
        "id": "7rW7htfsiYhr"
      },
      "outputs": [],
      "source": []
    },
    {
      "cell_type": "markdown",
      "metadata": {
        "id": "U5bXlKVFiYhr"
      },
      "source": [
        "##  VIII. Function Design\n",
        "\n",
        "\n",
        "Some good practices for creating and using functions:\n",
        "\n",
        "- design a function to do one thing\n",
        "\n",
        "Make them as simple as possible, which makes them:\n",
        "- more comprehensible\n",
        "- easier to maintain\n",
        "- reusable\n",
        "\n",
        "This helps avoid situations where a team has 20 variations of similar functions\n",
        "\n",
        "Give your function a good name  \n",
        "\n",
        "- it should reflect the action in performs.\n",
        "- be consistent in naming conventions\n",
        "- a name like `compute_variances_sort_save_print` suggests the function is overworked!\n",
        "- if the function `compute_variances` also produces plots and updates variables, it will cause confusion.  \n",
        "\n",
        "Always give your function a docstring\n",
        "- Particularly important since indicating data types is not required.  \n",
        "- As a side note, you can include this information by using `type annotation`.\n",
        "\n",
        "Function docstrings are stored in attribute `__doc__`; they can be shown like this:"
      ]
    },
    {
      "cell_type": "code",
      "execution_count": null,
      "metadata": {
        "id": "0SE10DYaiYhr"
      },
      "outputs": [],
      "source": [
        "print(bool.__doc__)"
      ]
    },
    {
      "cell_type": "markdown",
      "metadata": {
        "id": "yZQX-GkIiYhr"
      },
      "source": [
        "---"
      ]
    }
  ],
  "metadata": {
    "anaconda-cloud": {},
    "kernelspec": {
      "display_name": "Python 3.8.9 64-bit",
      "language": "python",
      "name": "python3"
    },
    "language_info": {
      "codemirror_mode": {
        "name": "ipython",
        "version": 3
      },
      "file_extension": ".py",
      "mimetype": "text/x-python",
      "name": "python",
      "nbconvert_exporter": "python",
      "pygments_lexer": "ipython3",
      "version": "3.9.6"
    },
    "vscode": {
      "interpreter": {
        "hash": "31f2aee4e71d21fbe5cf8b01ff0e069b9275f58929596ceb00d14d90e3e16cd6"
      }
    },
    "colab": {
      "provenance": [],
      "include_colab_link": true
    }
  },
  "nbformat": 4,
  "nbformat_minor": 0
}