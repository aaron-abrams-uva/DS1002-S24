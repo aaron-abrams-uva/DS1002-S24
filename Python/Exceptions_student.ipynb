{
  "cells": [
    {
      "cell_type": "markdown",
      "metadata": {
        "id": "view-in-github",
        "colab_type": "text"
      },
      "source": [
        "<a href=\"https://colab.research.google.com/github/aaron-abrams-uva/DS1002-S24/blob/main/Python/Exceptions_student.ipynb\" target=\"_parent\"><img src=\"https://colab.research.google.com/assets/colab-badge.svg\" alt=\"Open In Colab\"/></a>"
      ]
    },
    {
      "cell_type": "markdown",
      "metadata": {
        "id": "DCg8F4xQ5Roi"
      },
      "source": [
        "## Exception Handling\n",
        "\n",
        "### DS1002\n",
        "### 15 April 2024\n",
        "---  \n",
        "\n",
        "### PREREQUISITES\n",
        "- data types\n",
        "- variables\n",
        "- control structures\n",
        "- operators\n",
        "\n",
        "### SOURCES\n",
        "- errors and exceptions  \n",
        "https://www.geeksforgeeks.org/errors-and-exceptions-in-python/\n",
        "\n",
        "\n",
        "- assert  \n",
        "https://www.tutorialspoint.com/python/assertions_in_python.htm\n",
        "\n",
        "### OBJECTIVES\n",
        "- Discuss errors and exceptions\n",
        "- Explain why exception handling is important\n",
        "- Present methods for catching exceptions:\n",
        "  - try/except logic\n",
        "  - assert statements\n",
        "\n",
        "### CONCEPTS\n",
        "\n",
        "- errors\n",
        "- exceptions\n",
        "- try/except\n",
        "- assert\n",
        "- AssertionError\n"
      ]
    },
    {
      "cell_type": "markdown",
      "metadata": {
        "id": "bubkWnMZ5Rol"
      },
      "source": [
        "# The Big Picture\n",
        "\n",
        "> All happy families are alike, but every unhappy family is unhappy in its own way.\\\n",
        "-- Leo Tolstoy, _Anna Karenina_, 1878.\n",
        "\n",
        "There are two ways that programs can succeed or fail:\n",
        "\n",
        "They can meet or not meet the motivating **requirements** for the code.\n",
        "  - Does it do what it is supposed to do?\n",
        "  - Does it add value to a process?\n",
        "  - Is it ethical? Does it do harm?\n",
        "\n",
        "They can **work or not work**:\n",
        "  - Does the code run at all?\n",
        "  - Is the code brittle or buggy?\n",
        "  - Is it sensitive to contextual factors like bad user input or a bad database connection?\n",
        "  - Does the code work but produce incorrect outcomes?\n",
        "  \n",
        "These lead to **two practices**:\n",
        "* Strategic: **Project/Product management**\n",
        "* Tactical: **Testing and debugging**\n",
        "\n",
        "Today, we will focus on some concepts and tools for the latter.\n",
        "* We want to know whether our code is **working or not**.\n",
        "* We want to know if our code is of a **high quality**.\n",
        "  "
      ]
    },
    {
      "cell_type": "markdown",
      "metadata": {
        "id": "jRjGBjVt5Rol"
      },
      "source": [
        "**Approaches to quality**\n",
        "* Through good **design**\n",
        "* Through principled **testing**\n",
        "\n",
        "**Some design principles**\n",
        "* Favor the **simple over the complex**\n",
        "  * Don't confuse the easy with the simple!\n",
        "* Invest in **data design** to simplify algorithm design\n",
        "* Write **literate code**\n",
        "* Given a choice, use tools that are **documented** and have a **user community**\n",
        "* Many other things :-)\n",
        "\n",
        "**Some testing activities**\n",
        "* Syntax checking\n",
        "* Debugging\n",
        "* Ad hoc testing\n",
        "* Unit-testing\n",
        "* User testing\n",
        "\n",
        "**Some concepts**\n",
        "* Beware of **silent failures**\n",
        "* Testing for **the absence of bugs** is impossible"
      ]
    },
    {
      "cell_type": "markdown",
      "metadata": {
        "id": "2THv9non5Rom"
      },
      "source": [
        "# Tools and Concepts for Testing\n",
        "\n",
        "Programming languages offer many tools for testing.\n",
        "\n",
        "These include mechanisms to define and capture errors in code.\n",
        "\n",
        "We call these errors **exceptions**.\n",
        "- An exception is an event that occurs during the execution of a program that disrupts the normal flow of the program's instructions.\n",
        "\n",
        "Dealing with these errors is called **exception handling**.\n",
        "- When a Python script encounters a code failure, it raises an exception.\n"
      ]
    },
    {
      "cell_type": "markdown",
      "metadata": {
        "id": "CuvOxE8Y5Rom"
      },
      "source": [
        "# Python's Tools\n",
        "\n",
        "**Exceptions**\n",
        "- A Python **object** that represents an error\n",
        "- Objects that classify kinds of errors\n",
        "- Coders can define these\n",
        "\n",
        "**Exception Handlers**\n",
        "- Control structures and functions to deal with exceptions\n",
        "- `try`/`except`\n",
        "- `raise`\n",
        "- `assert`\n",
        "\n",
        "**Unit Testing Frameworks**\n",
        "- Robot\n",
        "- PyTest\n",
        "- **Unittest**\n",
        "- DocTest\n",
        "- Nose2\n",
        "- Testify"
      ]
    },
    {
      "cell_type": "markdown",
      "metadata": {
        "id": "rSwom-JJ5Rom"
      },
      "source": [
        "# Errors and Exceptions\n",
        "\n",
        "A common technical interview question: Explain the difference between an **error** and an **exception**.\n",
        "\n",
        "An **error** is a serious problem that a reasonable application should not try to catch.  \n",
        "An error will stop execution. It means the code if broken and needs to be rewritten.\n",
        "\n",
        "An **exception** is an issue that is expected or known to occur (e.g., division by zero).  \n",
        "Software must handle exceptions. For example, one bad row of data shouldn't bring down the application."
      ]
    },
    {
      "cell_type": "markdown",
      "metadata": {
        "id": "N1jEtAt65Rom"
      },
      "source": [
        "# Some Common Built-in Exceptions\n",
        "\n",
        "Python comes with a number of predefined exceptions.\n",
        "\n",
        "Libraries introduce new ones, too.\n",
        "\n",
        "They used in `raise` statement by the authors of programs when a possible error is anticipated.\n",
        "\n",
        "Here are some common examples."
      ]
    },
    {
      "cell_type": "markdown",
      "metadata": {
        "id": "O5KaJBxd5Ron"
      },
      "source": [
        "## `ZeroDivisionError`"
      ]
    },
    {
      "cell_type": "code",
      "execution_count": null,
      "metadata": {
        "id": "IslxlkRy5Ron"
      },
      "outputs": [],
      "source": [
        "3/0"
      ]
    },
    {
      "cell_type": "markdown",
      "metadata": {
        "id": "-1jaXHtr5Roo"
      },
      "source": [
        "## `Syntax Error`"
      ]
    },
    {
      "cell_type": "code",
      "execution_count": null,
      "metadata": {
        "id": "S3ntDv1J5Roo"
      },
      "outputs": [],
      "source": [
        "# if-statement missing colon at end\n",
        "\n",
        "if x>0\n",
        "  print(\"uh oh\")"
      ]
    },
    {
      "cell_type": "markdown",
      "metadata": {
        "id": "DN0Gr-eG5Roo"
      },
      "source": [
        "## `NameError`"
      ]
    },
    {
      "cell_type": "code",
      "execution_count": null,
      "metadata": {
        "id": "y1Di3Bxn5Roo"
      },
      "outputs": [],
      "source": [
        "# references an undefined variable\n",
        "\n",
        "print(x)"
      ]
    },
    {
      "cell_type": "markdown",
      "metadata": {
        "id": "w1ocv0nH5Roo"
      },
      "source": [
        "## `IndexError`"
      ]
    },
    {
      "cell_type": "code",
      "execution_count": null,
      "metadata": {
        "id": "kN9TP00M5Roo"
      },
      "outputs": [],
      "source": [
        "# loop goes off the end of the list\n",
        "\n",
        "lst = [0,1,2]\n",
        "\n",
        "for i in range(4):\n",
        "    print(lst[i])"
      ]
    },
    {
      "cell_type": "markdown",
      "metadata": {
        "id": "e9oaZegP5Rop"
      },
      "source": [
        "# Exception Handling with `try/except`\n",
        "\n",
        "We use `try/except` blocks to handle exceptions in our code.\n",
        "\n",
        "These blocks work as follows:\n",
        "* The `try` block will contain a statement.\n",
        "* If the statement fails, the the flow goes to the `except` block.\n",
        "* The exception block will have code to handle the error, rather than halting the program.\n",
        "\n",
        "The process is very similar to `if/then`:\n",
        "* **If** there is an **error**, **then** raise an **excpetion**.\n",
        "\n",
        "Multiple `except` statements may be given, to handle specific exceptions.  \n",
        "\n",
        "Below, we give a catch-all `except` for any kind of exception.\n",
        "\n",
        "An **exception** is a mistake that will halt the execution of code.\n",
        "* For example, trying to access a dictionary key that does not exit.\n",
        "* Or, a database connection fails.\n",
        "* Very often, execeptions are caused by an external dependency failing, such as another system or the user."
      ]
    },
    {
      "cell_type": "markdown",
      "metadata": {
        "id": "oRjrNmth5Rop"
      },
      "source": [
        "Let's try referencing a variable that doesn't exist with no exception handling."
      ]
    },
    {
      "cell_type": "code",
      "execution_count": null,
      "metadata": {
        "id": "RSDUr6eu5Rop"
      },
      "outputs": [],
      "source": [
        "print(a)"
      ]
    },
    {
      "cell_type": "markdown",
      "metadata": {
        "id": "iBnbDMGm5Rop"
      },
      "source": [
        "Now let's try referencing a variable that doesn't exist with a `try/except` block to handle the exception.    "
      ]
    },
    {
      "cell_type": "code",
      "execution_count": null,
      "metadata": {
        "id": "evLoWCfb5Rop"
      },
      "outputs": [],
      "source": [
        "try:\n",
        "    print(a)\n",
        "except:\n",
        "   print(\"caught an exception\")"
      ]
    },
    {
      "cell_type": "markdown",
      "source": [
        "Places where things often go wrong:\n",
        "\n",
        "- File I/O (input/output)\n",
        "- Remote requests\n",
        "- Database connections / queries\n",
        "- User I/O\n"
      ],
      "metadata": {
        "id": "tjiTTbxbJIXk"
      }
    },
    {
      "cell_type": "markdown",
      "metadata": {
        "tags": [],
        "id": "AeQIlonm5Rop"
      },
      "source": [
        "# Assert Statements\n",
        "\n",
        "Another to catch errors before they happen is to test if computations turned out as expected.\n",
        "\n",
        "We use `assert` to verify an expression is True.  \n",
        "- if expression is True, nothing happens.\n",
        "- if expression is False, Python raises an `AssertionError` exception.\n",
        "\n",
        "Assert statements have the followinf syntax:  \n",
        "  \n",
        "```python\n",
        "assert Expression[, Arguments]\n",
        "```\n",
        "\n",
        "where `[, Arguments]` denotes optional arguments.  \n",
        "\n",
        "For example, let's say a program is expecting three arguments to be passed from the command line.    \n",
        "\n",
        "The variable `num_args` counts the arguments."
      ]
    },
    {
      "cell_type": "code",
      "execution_count": null,
      "metadata": {
        "id": "8QVOiMpZ5Rop"
      },
      "outputs": [],
      "source": [
        "num_args = 3\n",
        "\n",
        "assert num_args == 3, \"number of arguments must be 3!\""
      ]
    },
    {
      "cell_type": "markdown",
      "metadata": {
        "id": "OyvA8Zyv5Roq"
      },
      "source": [
        "The `assert` evaluates to True, and things proceed normally without exception."
      ]
    },
    {
      "cell_type": "markdown",
      "metadata": {
        "id": "IqJE4oHk5Roq"
      },
      "source": [
        "If we change `num_args = 4` this will throw an `AssertionError` with the provided message.\n",
        "\n",
        "The program then stops."
      ]
    },
    {
      "cell_type": "code",
      "execution_count": null,
      "metadata": {
        "id": "4rSiuoO_5Roq"
      },
      "outputs": [],
      "source": [
        "num_args = 4\n",
        "\n",
        "assert num_args == 3, \"number of arguments must be 3!\""
      ]
    },
    {
      "cell_type": "markdown",
      "metadata": {
        "id": "EFCuA4bc5Roq"
      },
      "source": [
        "If the `assert` is not given a message, it throws `AssertionError:`"
      ]
    },
    {
      "cell_type": "code",
      "execution_count": null,
      "metadata": {
        "id": "6_JIw8595Roq"
      },
      "outputs": [],
      "source": [
        "num_args = 4\n",
        "\n",
        "assert num_args == 3"
      ]
    },
    {
      "cell_type": "code",
      "execution_count": null,
      "metadata": {
        "id": "hKjz8ftm5Roq"
      },
      "outputs": [],
      "source": [
        "try:\n",
        "    assert num_args == 3\n",
        "except:\n",
        "    print(\"Got an error\")"
      ]
    },
    {
      "cell_type": "code",
      "execution_count": null,
      "metadata": {
        "id": "DQEBI7lM5Roq"
      },
      "outputs": [],
      "source": [
        "try:\n",
        "    assert num_args == 3, \"Number of arguments must be 3!\"\n",
        "except AssertionError as e:\n",
        "    print(e)"
      ]
    },
    {
      "cell_type": "markdown",
      "metadata": {
        "tags": [],
        "id": "7cKjF32E5Roq"
      },
      "source": [
        "# `raise`\n",
        "\n",
        "Exceptions can be **raised**, too.\n",
        "\n",
        "Use this if you want to halt the program and let other code that is using this code handle it.|"
      ]
    },
    {
      "cell_type": "code",
      "execution_count": null,
      "metadata": {
        "id": "4dqZ4JKC5Ror"
      },
      "outputs": [],
      "source": [
        "try:\n",
        "    10/0\n",
        "except:\n",
        "    raise ZeroDivisionError(\"Hey, you can't divide by zero!\")"
      ]
    },
    {
      "cell_type": "code",
      "execution_count": null,
      "metadata": {
        "id": "0dFlLfBg5Ror"
      },
      "outputs": [],
      "source": [
        "raise IndexError(\"Bad Index\")"
      ]
    },
    {
      "cell_type": "markdown",
      "source": [
        "# `finally`\n",
        "\n",
        "A `finally` command allows you to add code which will be executed even if (after) an exception has been found.\n",
        "\n"
      ],
      "metadata": {
        "id": "5TQpssCQJdHr"
      }
    },
    {
      "cell_type": "code",
      "source": [
        "mylist = [5, 6, 7]\n",
        "\n",
        "try:\n",
        "  print(\"The first element is \" + mylist[0])\n",
        "  print(\"The fourth element is \" + mylist[3])\n",
        "except IndexError:\n",
        "  print(\"An indexing error has occurred.\")\n",
        "except ValueError:\n",
        "  print(\"An error in value has occurred.\")\n",
        "except TypeError:\n",
        "  print(\"A type error has occurred.\")\n",
        "else:\n",
        "  print(\"I have tried everything I can think of.\")"
      ],
      "metadata": {
        "id": "ul9mHCPtJz_6"
      },
      "execution_count": null,
      "outputs": []
    },
    {
      "cell_type": "code",
      "source": [
        "mylist = [5, 6, 7]\n",
        "\n",
        "try:\n",
        "  print(\"The first element is \" + mylist[0])\n",
        "  print(\"The fourth element is \" + mylist[3])\n",
        "except Exception as e:\n",
        "  print(f\"An error has occurred: {e}\")\n",
        "#  print(type(e))\n"
      ],
      "metadata": {
        "id": "YrrF2b-KKvtj"
      },
      "execution_count": null,
      "outputs": []
    },
    {
      "cell_type": "code",
      "source": [
        "mylist = [5, 6, 7]\n",
        "\n",
        "try:\n",
        "  print(\"The first element is \" + mylist[0])\n",
        "  print(\"The fourth element is \" + mylist[3])\n",
        "except Exception as e:\n",
        "  print(f\"An error has occurred: {e}\")\n",
        "finally:\n",
        "  print(\"Moving on . . . \")\n",
        "\n",
        "#print(8+9)"
      ],
      "metadata": {
        "id": "GapPxKUnK2b4"
      },
      "execution_count": null,
      "outputs": []
    },
    {
      "cell_type": "markdown",
      "metadata": {
        "id": "NAIc5c8c5Ror"
      },
      "source": [
        "---\n",
        "\n",
        "### TRY FOR YOURSELF (UNGRADED EXERCISES)\n"
      ]
    },
    {
      "cell_type": "markdown",
      "metadata": {
        "id": "9k0FJvx55Ror"
      },
      "source": [
        "1) Write a try/except statement to handle an exception. Verify it works properly."
      ]
    },
    {
      "cell_type": "code",
      "execution_count": null,
      "metadata": {
        "id": "y8xinZfX5Ror"
      },
      "outputs": [],
      "source": []
    },
    {
      "cell_type": "markdown",
      "metadata": {
        "id": "VP4w07MZ5Ror"
      },
      "source": [
        "2) Write an expression and include an `assert` statement to test it.  \n",
        "Run tests where the assert evaluates to True, False, showing the results in each condition."
      ]
    },
    {
      "cell_type": "code",
      "execution_count": null,
      "metadata": {
        "id": "Uz9BMujF5Ros"
      },
      "outputs": [],
      "source": []
    }
  ],
  "metadata": {
    "anaconda-cloud": {},
    "kernelspec": {
      "display_name": "Python 3.8.9 64-bit",
      "language": "python",
      "name": "python3"
    },
    "language_info": {
      "codemirror_mode": {
        "name": "ipython",
        "version": 3
      },
      "file_extension": ".py",
      "mimetype": "text/x-python",
      "name": "python",
      "nbconvert_exporter": "python",
      "pygments_lexer": "ipython3",
      "version": "3.8.9"
    },
    "vscode": {
      "interpreter": {
        "hash": "31f2aee4e71d21fbe5cf8b01ff0e069b9275f58929596ceb00d14d90e3e16cd6"
      }
    },
    "colab": {
      "provenance": [],
      "include_colab_link": true
    }
  },
  "nbformat": 4,
  "nbformat_minor": 0
}