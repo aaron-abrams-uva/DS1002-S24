{
  "cells": [
    {
      "cell_type": "markdown",
      "metadata": {
        "id": "view-in-github",
        "colab_type": "text"
      },
      "source": [
        "<a href=\"https://colab.research.google.com/github/aaron-abrams-uva/DS1002-S24/blob/main/Python/Les_iterables_student.ipynb\" target=\"_parent\"><img src=\"https://colab.research.google.com/assets/colab-badge.svg\" alt=\"Open In Colab\"/></a>"
      ]
    },
    {
      "cell_type": "markdown",
      "metadata": {
        "id": "Ls2EwXAaJxYO"
      },
      "source": [
        "## Iterables and Iterators\n",
        "\n",
        "\n",
        "### University of Virginia\n",
        "### DS 1002: Programming for Data Science\n",
        "---  \n",
        "\n",
        "### PREREQUISITES\n",
        "- data types\n",
        "- variables\n",
        "- `for` loop\n",
        "\n",
        "### SOURCES\n",
        "- Iterable objects  \n",
        "http://tutorial.eyehunts.com/python/python-iterable-object-lists-tuples-dictionaries-and-sets/\n",
        "\n",
        "\n",
        "- Iterators  \n",
        "https://www.geeksforgeeks.org/iterators-in-python/\n",
        "\n",
        "\n",
        "### OBJECTIVES\n",
        "- Define iterables and iterators\n",
        "- Using two methods, show how iterators can be used to return data from sets, lists, strings, tuples, dicts:\n",
        "  - `for` loops    \n",
        "  - `iter()` and `next()`\n",
        "\n",
        "\n",
        "\n",
        "### CONCEPTS\n",
        "\n",
        "- `iterable objects` or `iterables`\n",
        "- iterators\n",
        "- iteration\n",
        "- sequence\n",
        "- collection\n",
        "\n",
        "\n",
        "---\n",
        "\n",
        "## I. Defining Iterables and Iterators\n",
        "\n",
        "`Iterable objects` or `iterables` can return elements one at a time  \n",
        "\n",
        "An `iterator` is an object that iterates over iterable objects such as sets, lists, tuples, dictionaries, and strings  \n",
        "\n",
        "`Iteration` can be implemented:\n",
        "- with a `for` loop\n",
        "- with the `next()` method\n",
        "\n"
      ]
    },
    {
      "cell_type": "markdown",
      "metadata": {
        "id": "kXJiIhR3JxYP"
      },
      "source": [
        "## II. Misc\n",
        "\n",
        "Other useful tools for iterating\n",
        "\n",
        "**Ranges**\n",
        "\n",
        "If you just want to iterate for a known number of times, use `range()`"
      ]
    },
    {
      "cell_type": "code",
      "execution_count": null,
      "metadata": {
        "id": "rt_o9y-WJxYP"
      },
      "outputs": [],
      "source": [
        "for i in range(10) :\n",
        "    print(str(i+1).zfill(2), (i+1)**2 * '|')"
      ]
    },
    {
      "cell_type": "markdown",
      "metadata": {
        "id": "MGNlj7EMJxYQ"
      },
      "source": [
        "`zfill()` adds zeros to the front of a string until the it reaches the specified length"
      ]
    },
    {
      "cell_type": "markdown",
      "metadata": {
        "id": "EicBwA6GJxYQ"
      },
      "source": [
        "**Formatted String Literals (i.e. f-strings)**\n",
        "\n",
        "Also called “formatted string literals,” f-strings are string literals that have an f at the beginning and curly braces containing expressions that will be replaced with their values. The expressions are evaluated at runtime and then formatted using the `__format__` protocol.\n",
        "\n",
        "Example:"
      ]
    },
    {
      "cell_type": "code",
      "execution_count": null,
      "metadata": {
        "id": "_iFsJoSeJxYQ"
      },
      "outputs": [],
      "source": [
        "name = 'Ted Lasso'\n",
        "age = 42\n",
        "\n",
        "f\"Hello, {name}. You are {age}.\""
      ]
    },
    {
      "cell_type": "markdown",
      "metadata": {
        "id": "k5-JqSp-JxYR"
      },
      "source": [
        "**Get iteration number**  \n",
        "\n",
        "Often you will want to know what iteration number you are in the loop, use `enumerate()`  \n",
        "\n",
        "`enumerate()` returns the index and key for each iteration"
      ]
    },
    {
      "cell_type": "code",
      "source": [
        "ff_teams = {'NCSU' : 3, 'Iowa' : 1, 'South Carolina' : 1, 'Connecticut': 3}\n",
        "\n",
        "enumerate(ff_teams)\n",
        "#print(type(enumerate(ff_teams)))\n",
        "#for x in enumerate(ff_teams): print (type(x))\n",
        "#list(enumerate(ff_teams))\n",
        "\n"
      ],
      "metadata": {
        "id": "fgPJ4uKkLKcm"
      },
      "execution_count": null,
      "outputs": []
    },
    {
      "cell_type": "code",
      "execution_count": null,
      "metadata": {
        "id": "gbs3eOYfJxYR"
      },
      "outputs": [],
      "source": [
        "for school in ff_teams:\n",
        "  print(f\"School:  {school} \\t Seed: {ff_teams[school]}\")\n",
        "\n",
        "print(50*'-')\n",
        "\n",
        "for i, school in enumerate(ff_teams) :\n",
        "   school_name = f\"{str(i).zfill(2)}_{school}: \\t Seed: {ff_teams[school]}\"\n",
        "   print(school_name)"
      ]
    },
    {
      "cell_type": "markdown",
      "metadata": {
        "id": "RPtes3DRJxYS"
      },
      "source": [
        "## III. Sequences and Collections\n",
        "\n",
        "Iterables: `list`, `str`, `tuple`, `set`, `dict`\n",
        "\n",
        "Lists, tuples, dictionaries, and strings are `sequences`. Sequences are designed so that elements come out of them in the same order they were put in.\n",
        "\n",
        "Sets are not sequences, since they don't keep elements in order.\n",
        "They are called `collections`.  The ordering of the items is arbitrary.\n",
        "\n",
        "NOTE: This has changed for dictionaries in Python 3.7:  \n",
        "\n",
        "> the insertion-order preservation nature of dict objects has been declared to be an official part of the Python language spec.\\\n",
        "-- [What's New in Python 3.7](https://docs.python.org/3.7/whatsnew/3.7.html)"
      ]
    },
    {
      "cell_type": "markdown",
      "metadata": {
        "id": "q-X5D4ndJxYS"
      },
      "source": [
        "## IV. Lists"
      ]
    },
    {
      "cell_type": "markdown",
      "metadata": {
        "id": "_1sLABrCJxYS"
      },
      "source": [
        "**iterating using `for`**"
      ]
    },
    {
      "cell_type": "code",
      "execution_count": null,
      "metadata": {
        "id": "byytUDkzJxYS"
      },
      "outputs": [],
      "source": [
        "tokens = ['living room','was','quite','large']\n",
        "\n",
        "for tok in tokens:\n",
        "    print(tok)"
      ]
    },
    {
      "cell_type": "markdown",
      "metadata": {
        "id": "YE_aYxhTJxYS"
      },
      "source": [
        "**iterating using `iter()` and `next()`**\n",
        "\n",
        "`iter()` - gets an iterator. Outputs a value each time it is used.\n",
        "`next()` - gets the next item from the iterator"
      ]
    },
    {
      "cell_type": "code",
      "execution_count": null,
      "metadata": {
        "id": "9Xp1AciFJxYS"
      },
      "outputs": [],
      "source": [
        "tokens = ['living room','was','quite','large']\n",
        "\n",
        "myit = iter(tokens)\n",
        "print(next(myit))\n",
        "print(next(myit))\n",
        "print(next(myit))\n",
        "print(next(myit))"
      ]
    },
    {
      "cell_type": "markdown",
      "metadata": {
        "id": "WAMcotkKJxYS"
      },
      "source": [
        "Calling `next()` when the iterator has reached the end of the list produces an exception:"
      ]
    },
    {
      "cell_type": "code",
      "execution_count": null,
      "metadata": {
        "id": "uLIx47e6JxYS"
      },
      "outputs": [],
      "source": [
        "print(next(myit))"
      ]
    },
    {
      "cell_type": "markdown",
      "metadata": {
        "id": "meYbNT6oJxYS"
      },
      "source": [
        "Next, look at the type of the iterator, and the documentation"
      ]
    },
    {
      "cell_type": "code",
      "execution_count": null,
      "metadata": {
        "id": "wHT28_luJxYT"
      },
      "outputs": [],
      "source": [
        "type(myit)"
      ]
    },
    {
      "cell_type": "code",
      "execution_count": null,
      "metadata": {
        "scrolled": true,
        "id": "cjKX16t7JxYT"
      },
      "outputs": [],
      "source": [
        "help(myit)"
      ]
    },
    {
      "cell_type": "code",
      "execution_count": null,
      "metadata": {
        "id": "c5E2vIrQJxYT"
      },
      "outputs": [],
      "source": [
        "help(next)"
      ]
    },
    {
      "cell_type": "markdown",
      "metadata": {
        "id": "UIXACk7fJxYT"
      },
      "source": [
        "**Note that `for` implicitly creates an iterator and executes `next()` on each loop iteration. This is best way to iterate through a list-like object.**"
      ]
    },
    {
      "cell_type": "markdown",
      "metadata": {
        "id": "YtyUu7bvJxYT"
      },
      "source": [
        "## V. Strings"
      ]
    },
    {
      "cell_type": "markdown",
      "metadata": {
        "id": "lMhH8bWmJxYT"
      },
      "source": [
        "**iterating using `for`**"
      ]
    },
    {
      "cell_type": "code",
      "execution_count": null,
      "metadata": {
        "id": "yMYWzgllJxYT"
      },
      "outputs": [],
      "source": [
        "strn = 'datum'\n",
        "\n",
        "for s in strn:\n",
        "    print(s)"
      ]
    },
    {
      "cell_type": "markdown",
      "metadata": {
        "id": "rsyO8tMfJxYU"
      },
      "source": [
        "**iterating using `iter()` and `next()`**"
      ]
    },
    {
      "cell_type": "code",
      "execution_count": null,
      "metadata": {
        "id": "8QRuj3_9JxYU"
      },
      "outputs": [],
      "source": [
        "st = iter(strn)\n",
        "\n",
        "print(next(st))\n",
        "print(next(st))\n",
        "print(next(st))\n",
        "print(next(st))"
      ]
    },
    {
      "cell_type": "markdown",
      "metadata": {
        "id": "hDF7SQw8JxYU"
      },
      "source": [
        "## VI. Tuples"
      ]
    },
    {
      "cell_type": "markdown",
      "metadata": {
        "id": "oFBT99gaJxYU"
      },
      "source": [
        "**iterating using `for` loop**"
      ]
    },
    {
      "cell_type": "code",
      "execution_count": null,
      "metadata": {
        "id": "BgEMEu11JxYU"
      },
      "outputs": [],
      "source": [
        "metrics = ('auc','recall','precision','support')\n",
        "\n",
        "for met in metrics:\n",
        "    print(met)"
      ]
    },
    {
      "cell_type": "markdown",
      "metadata": {
        "id": "jhs7i2KKJxYU"
      },
      "source": [
        "**iterating using `iter()` and `next()`**"
      ]
    },
    {
      "cell_type": "code",
      "execution_count": null,
      "metadata": {
        "id": "uWR6PyM5JxYU"
      },
      "outputs": [],
      "source": [
        "metrics = ('auc','recall','precision','support')\n",
        "\n",
        "tup_metrics = iter(metrics)\n",
        "print(next(tup_metrics))\n",
        "print(next(tup_metrics))\n",
        "print(next(tup_metrics))\n",
        "print(next(tup_metrics))"
      ]
    },
    {
      "cell_type": "markdown",
      "source": [
        "**`break` and `continue`**"
      ],
      "metadata": {
        "id": "Z0P6HM7-OufQ"
      }
    },
    {
      "cell_type": "code",
      "source": [
        "for met in metrics:\n",
        "    print(met)\n",
        "    if met == 'precision':\n",
        "      break\n",
        "    print(met)\n",
        "\n",
        "print(40*'-')\n",
        "\n",
        "for met in metrics:\n",
        "    print(met)\n",
        "    if met == 'precision':\n",
        "      continue\n",
        "    print(met)\n"
      ],
      "metadata": {
        "id": "FwluPeGiOO8O"
      },
      "execution_count": null,
      "outputs": []
    },
    {
      "cell_type": "markdown",
      "metadata": {
        "id": "AmrGuy-jJxYU"
      },
      "source": [
        "## VII. Dictionaries"
      ]
    },
    {
      "cell_type": "markdown",
      "metadata": {
        "id": "Laz3TzXiJxYU"
      },
      "source": [
        "\n",
        "**iterating using `for-loop`**"
      ]
    },
    {
      "cell_type": "code",
      "execution_count": null,
      "metadata": {
        "id": "VoVbs27WJxYU"
      },
      "outputs": [],
      "source": [
        "courses = {'fall':['regression','python'], 'spring':['capstone','pyspark','nlp']}"
      ]
    },
    {
      "cell_type": "markdown",
      "metadata": {
        "id": "pzqZChNbJxYU"
      },
      "source": [
        "*Python's default is to interate over the keys*"
      ]
    },
    {
      "cell_type": "code",
      "execution_count": null,
      "metadata": {
        "id": "WXKra7rJJxYU"
      },
      "outputs": [],
      "source": [
        "# iterate over keys\n",
        "\n",
        "for k in courses:\n",
        "    print(k)"
      ]
    },
    {
      "cell_type": "code",
      "execution_count": null,
      "metadata": {
        "id": "49j_Lf4jJxYU"
      },
      "outputs": [],
      "source": [
        "# iterate over keys, using keys() method\n",
        "\n",
        "for k in courses.keys():\n",
        "    print(k)"
      ]
    },
    {
      "cell_type": "code",
      "execution_count": null,
      "metadata": {
        "id": "ht3y7R-6JxYV"
      },
      "outputs": [],
      "source": [
        "# iterate over values\n",
        "\n",
        "for v in courses.values():\n",
        "    print(v)"
      ]
    },
    {
      "cell_type": "code",
      "execution_count": null,
      "metadata": {
        "id": "l479ozgEJxYV"
      },
      "outputs": [],
      "source": [
        "# iterate over keys and values using `items()`\n",
        "\n",
        "for k, v in courses.items():\n",
        "    print(\"key  :\", k)\n",
        "    print(\"value:\", v)\n",
        "    print(\"-\"*40)"
      ]
    },
    {
      "cell_type": "markdown",
      "metadata": {
        "id": "74tjoMLfJxYV"
      },
      "source": [
        "Alternatively, keys and values can be extracted from the dict by:\n",
        "- looping over the keys\n",
        "- extract the value by indexing into the dict with the key"
      ]
    },
    {
      "cell_type": "code",
      "execution_count": null,
      "metadata": {
        "id": "zC2zr-YKJxYV"
      },
      "outputs": [],
      "source": [
        "# iterate over keys and values using `key()`.\n",
        "\n",
        "for k in courses.keys():\n",
        "    print(\"key  :\", k)\n",
        "    print(\"value:\", courses[k]) # index into the dict with the key\n",
        "    print(\"-\"*40)"
      ]
    },
    {
      "cell_type": "code",
      "execution_count": null,
      "metadata": {
        "id": "yLl8RR4zJxYV"
      },
      "outputs": [],
      "source": [
        "# iterate over keys and values using `key()`.\n",
        "for k in courses.keys():\n",
        "    print(f\"{k}:\\t{', '.join(courses[k])}\") # index into the dict with the key\n"
      ]
    },
    {
      "cell_type": "markdown",
      "metadata": {
        "id": "p0WYEwIZJxYV"
      },
      "source": [
        "enumerate() will return the index, key for each row"
      ]
    },
    {
      "cell_type": "code",
      "execution_count": null,
      "metadata": {
        "id": "MicWpoFmJxYV"
      },
      "outputs": [],
      "source": [
        "for k in enumerate(courses):\n",
        "    print(k)"
      ]
    },
    {
      "cell_type": "markdown",
      "metadata": {
        "id": "bPG5_GDsJxYV"
      },
      "source": [
        "## VIII. Sets"
      ]
    },
    {
      "cell_type": "markdown",
      "metadata": {
        "id": "kyFrM8ttJxYV"
      },
      "source": [
        "**iterating using `for`**  \n",
        "note: set has no notion of order"
      ]
    },
    {
      "cell_type": "code",
      "execution_count": null,
      "metadata": {
        "id": "CI1-G88CJxYV"
      },
      "outputs": [],
      "source": [
        "princesses = {'belle','cinderella','rapunzel'}\n",
        "\n",
        "for princess in princesses:\n",
        "    print(princess)"
      ]
    },
    {
      "cell_type": "markdown",
      "metadata": {
        "id": "VhmccmcpJxYV"
      },
      "source": [
        "**iterating using `iter()` and `next()`**"
      ]
    },
    {
      "cell_type": "code",
      "execution_count": null,
      "metadata": {
        "id": "P0jtnh6TJxYV"
      },
      "outputs": [],
      "source": [
        "princesses = {'aaron','belle','cinderella','rapunzel'}\n",
        "\n",
        "myset = iter(princesses)\n",
        "print(next(myset))\n",
        "print(next(myset))\n",
        "print(next(myset))"
      ]
    },
    {
      "cell_type": "code",
      "source": [
        "enumerate(princesses)\n",
        "list(enumerate(princesses))"
      ],
      "metadata": {
        "id": "lDadR082Q0PD"
      },
      "execution_count": null,
      "outputs": []
    },
    {
      "cell_type": "markdown",
      "metadata": {
        "id": "hz0-_t5SJxYV"
      },
      "source": [
        "---"
      ]
    },
    {
      "cell_type": "markdown",
      "metadata": {
        "id": "kVllgaAkJxYV"
      },
      "source": [
        "### TRY FOR YOURSELF (UNGRADED EXERCISES)"
      ]
    },
    {
      "cell_type": "markdown",
      "metadata": {
        "id": "aJzCf636JxYV"
      },
      "source": [
        "1a) Create a list of strings, where each string contains a mix of uppercase and lowercase letters.  \n",
        "Write a `for` loop` to iterate over the strings and:\n",
        "- lowercase the string (hint: `lower()`)\n",
        "- print the string"
      ]
    },
    {
      "cell_type": "code",
      "execution_count": null,
      "metadata": {
        "jupyter": {
          "source_hidden": true
        },
        "id": "8L2NOoV_JxYV"
      },
      "outputs": [],
      "source": [
        "names = ['John', 'Paul', 'George', 'Ringo']\n"
      ]
    },
    {
      "cell_type": "markdown",
      "metadata": {
        "id": "E21TOxUdJxYW"
      },
      "source": [
        "1b) Using the list from (1a), use `iter()` and `next()` to iterate over the list, printing each string.  \n",
        "The strings don't need to be lowercased."
      ]
    },
    {
      "cell_type": "code",
      "execution_count": null,
      "metadata": {
        "jupyter": {
          "source_hidden": true
        },
        "id": "zUnhJGA6JxYW"
      },
      "outputs": [],
      "source": []
    },
    {
      "cell_type": "markdown",
      "metadata": {
        "id": "aAYR3dW_JxYW"
      },
      "source": [
        "2a) Create a dictionary. Use a `for` loop with `items()` to print each key-value pair."
      ]
    },
    {
      "cell_type": "code",
      "execution_count": null,
      "metadata": {
        "jupyter": {
          "source_hidden": true
        },
        "id": "z_dE_f3vJxYW"
      },
      "outputs": [],
      "source": [
        "city_zip = {'Santa Barbara':93103, 'Charlottesville':22903}\n",
        "\n"
      ]
    },
    {
      "cell_type": "markdown",
      "metadata": {
        "id": "Pdzi-GP8JxYW"
      },
      "source": [
        "2b) Using the dictionary from (2a), use a `for` loop with `key()` to print each key-value pair.  \n",
        "To extract the values, use the key to index into the dict."
      ]
    },
    {
      "cell_type": "code",
      "execution_count": null,
      "metadata": {
        "jupyter": {
          "source_hidden": true
        },
        "id": "N2RGOSyQJxYW"
      },
      "outputs": [],
      "source": []
    },
    {
      "cell_type": "markdown",
      "metadata": {
        "id": "XAGhJknZJxYW"
      },
      "source": [
        "---"
      ]
    },
    {
      "cell_type": "markdown",
      "metadata": {
        "id": "6isR8dB9JxYW"
      },
      "source": [
        "## IX. Nested Loops  \n",
        "\n",
        "Iterations can be nested!\n",
        "\n",
        "This works well with nested data structures, like dicts within dicts.\n",
        "\n",
        "This is basically how `JSON` files are handled.\n",
        "\n",
        "Be careful, though -- these can get complicated."
      ]
    },
    {
      "cell_type": "code",
      "source": [
        "courses"
      ],
      "metadata": {
        "id": "3kJuOnvTRvir"
      },
      "execution_count": null,
      "outputs": []
    },
    {
      "cell_type": "code",
      "execution_count": null,
      "metadata": {
        "id": "oFF7-DdMJxYW"
      },
      "outputs": [],
      "source": [
        "for i, semester in enumerate(courses):\n",
        "    print(f\"{i+1}. {semester.upper()}:\")\n",
        "    for j, course in enumerate(courses[semester]):\n",
        "        print(f\"\\t{i+1}.{j+1}. {course}\")"
      ]
    },
    {
      "cell_type": "markdown",
      "metadata": {
        "id": "Ieak7T-SJxYW"
      },
      "source": [
        "## X. List Comprehensions\n",
        "\n",
        "Start with this `for` loop:"
      ]
    },
    {
      "cell_type": "code",
      "execution_count": null,
      "metadata": {
        "id": "mDCukjo5JxYW"
      },
      "outputs": [],
      "source": [
        "vals = [1, 5, 6, 8, 12, 15]\n",
        "is_odd = []\n",
        "\n",
        "for val in vals:\n",
        "    if val % 2: # if remainder is one, val is odd\n",
        "        is_odd.append(True)\n",
        "    else:       # else it's not odd\n",
        "        is_odd.append(False)\n",
        "\n",
        "is_odd"
      ]
    },
    {
      "cell_type": "markdown",
      "metadata": {
        "id": "ys8tPDEtJxYW"
      },
      "source": [
        "The code loops over each value in the list, checks the condition, and appends to a new list.  \n",
        "\n",
        "The code works, but it's lengthy compared to a list comprehension.  \n",
        "\n",
        "The approach takes extra time to write and understand.  \n",
        "\n",
        "Let's solve with a list comprehension:"
      ]
    },
    {
      "cell_type": "code",
      "source": [
        "print(is_odd)\n",
        "del(is_odd)\n",
        "print(is_odd)"
      ],
      "metadata": {
        "id": "Bk6GGy74R4LL"
      },
      "execution_count": null,
      "outputs": []
    },
    {
      "cell_type": "code",
      "execution_count": null,
      "metadata": {
        "id": "A3DZGuB-JxYW"
      },
      "outputs": [],
      "source": [
        "is_odd = [val % 2 == 1 for val in vals]\n",
        "is_odd\n"
      ]
    },
    {
      "cell_type": "markdown",
      "metadata": {
        "id": "JtSwIIBaJxYW"
      },
      "source": [
        "Much shorter, and if you understand the syntax, quicker to interpet.\n",
        "\n",
        "Note the in-place use of an expression.\n",
        "\n",
        "Now let's discuss the syntax."
      ]
    },
    {
      "cell_type": "markdown",
      "metadata": {
        "id": "t6b5cE6NJxYW"
      },
      "source": [
        "## Comprehensions in General\n",
        "\n",
        "Comprehensions provide a concise method for iterating over any list-like object to a new list like object.\n",
        "\n",
        "There are comprehensions for each list-like object:\n",
        "* List comprehensions\n",
        "* Dictionary comprehensions\n",
        "* Tuple comprehensions\n",
        "* Set comprehensions\n",
        "\n",
        "Comprehensions are essentially very concise `for` loops. They are compact visually, but they also are more efficient than loops.\n",
        "\n",
        "All comprehensions have the form:\n",
        "\n",
        "listlike_result = `[ expression + context]`\n",
        "\n",
        "The type of comprehension is indicated by the use of enclosing pairs, just like anonymous constructors:\n",
        "\n",
        "* List comprehensions       `[expression + context]`\n",
        "* Dictionary comprehensions `{expression + context}`\n",
        "* Tuple comprehensions      `(expression + context)`\n",
        "* Set comprehensions        `{expression + context}`\n",
        "\n",
        "\n",
        "**Expression** defines what to do with each element in the list. This has the structure of the kind of comprehension. So, dictionary comprehension expressions take the form `k:v` while sets use `v`.\n",
        "\n",
        "**Context** defines which list elements to select.  The context always consists of an arbitrary number of `for` and `if` statements.\n",
        "\n",
        "---\n",
        "\n",
        "**Another example:**\n",
        "\n",
        "*Stop Word Remover*\n",
        "\n",
        "Create list of words, and list of stop words.  \n",
        "Filter out the stop words (considered not important)."
      ]
    },
    {
      "cell_type": "code",
      "execution_count": null,
      "metadata": {
        "id": "UbopEmEnJxYW"
      },
      "outputs": [],
      "source": [
        "stop_words = ['a','am','an','i','the','of']\n",
        "words      = ['i','am','not','a','fan','of','the','film']\n",
        "\n",
        "clean_words = [wd for wd in words if wd not in stop_words]\n",
        "clean_words"
      ]
    },
    {
      "cell_type": "markdown",
      "metadata": {
        "id": "QCtUi_wTJxYX"
      },
      "source": [
        "-The expression is very simple: wd. keep the word if meets condition  \n",
        "-The condition does the work: if the word isn't in list of stop words, keep it"
      ]
    },
    {
      "cell_type": "markdown",
      "metadata": {
        "id": "GiJWHcgkJxYX"
      },
      "source": [
        "Side note: This task can also be done with sets, if you are not concerned with mulitple instances of the same word:"
      ]
    },
    {
      "cell_type": "code",
      "execution_count": null,
      "metadata": {
        "id": "fv2L2MZlJxYX"
      },
      "outputs": [],
      "source": [
        "s1 = set(stop_words)\n",
        "s2 = set(words)\n",
        "s3 = s2 - s1\n",
        "\n",
        "s3"
      ]
    },
    {
      "cell_type": "markdown",
      "metadata": {
        "id": "GVyDyRS9JxYX"
      },
      "source": [
        "---\n",
        "**Another Example**  \n",
        "\n",
        "Select a list of measurements, retain elements containing mmHG"
      ]
    },
    {
      "cell_type": "code",
      "execution_count": null,
      "metadata": {
        "id": "m0XPQx-kJxYX"
      },
      "outputs": [],
      "source": [
        "units = 'mmHg'\n",
        "measures = ['20', '115mmHg', '5mg', '10 mg', '7.5dl', '120 mmHg']\n",
        "\n",
        "meas_mmhg = [meas for meas in measures if units in meas]\n",
        "\n",
        "meas_mmhg"
      ]
    },
    {
      "cell_type": "markdown",
      "metadata": {
        "id": "4DbOtXRAJxYX"
      },
      "source": [
        "Filter on 2 conditions"
      ]
    },
    {
      "cell_type": "code",
      "execution_count": null,
      "metadata": {
        "id": "2LM2ksjlJxYX"
      },
      "outputs": [],
      "source": [
        "units1 = 'mmHg'\n",
        "units2 = 'dl'\n",
        "meas_mmhg_dl = [meas for meas in measures if units1 in meas or units2 in meas]\n",
        "\n",
        "meas_mmhg_dl"
      ]
    },
    {
      "cell_type": "markdown",
      "metadata": {
        "id": "lxQPod1dJxYX"
      },
      "source": [
        "For clarity:"
      ]
    },
    {
      "cell_type": "code",
      "execution_count": null,
      "metadata": {
        "id": "j2lFYyHGJxYX"
      },
      "outputs": [],
      "source": [
        "[meas\n",
        " for meas in measures\n",
        " if units1 in meas\n",
        " or units2 in meas]"
      ]
    },
    {
      "cell_type": "markdown",
      "metadata": {
        "id": "Vitk461EJxYX"
      },
      "source": [
        "---\n",
        "## Dictionary Comprehensions\n",
        "\n",
        "**Dictionary comprehensions** provide a concise method for iterating over a dictionary to create a new dictionary.\n",
        "\n",
        "This is common when data is structured as key-value pairs, and we'd like to filter the dict."
      ]
    },
    {
      "cell_type": "code",
      "execution_count": null,
      "metadata": {
        "id": "7HiOfxN9JxYX"
      },
      "outputs": [],
      "source": [
        "# various deep learning models and their depths\n",
        "\n",
        "model_arch = {'cnn_1':'15 layers', 'cnn_2':'20 layers', 'rnn': '10 layers'}"
      ]
    },
    {
      "cell_type": "code",
      "execution_count": null,
      "metadata": {
        "id": "S8BjSeR_JxYX"
      },
      "outputs": [],
      "source": [
        "# create a new dict containing only key-value pairs where the key contains 'cnn'\n",
        "\n",
        "cnns = {key:model_arch[key] for key in model_arch.keys() if 'cnn' in key}\n",
        "cnns"
      ]
    },
    {
      "cell_type": "markdown",
      "metadata": {
        "id": "0tykY55mJxYX"
      },
      "source": [
        "We build the key-value pairs using the expression `key:model_arch[key]`, where the key indexes into the dict `model_arch`."
      ]
    },
    {
      "cell_type": "code",
      "execution_count": null,
      "metadata": {
        "id": "kMU0Qv9yJxYX"
      },
      "outputs": [],
      "source": []
    }
  ],
  "metadata": {
    "anaconda-cloud": {},
    "kernelspec": {
      "display_name": "Python 3.8.9 64-bit",
      "language": "python",
      "name": "python3"
    },
    "language_info": {
      "codemirror_mode": {
        "name": "ipython",
        "version": 3
      },
      "file_extension": ".py",
      "mimetype": "text/x-python",
      "name": "python",
      "nbconvert_exporter": "python",
      "pygments_lexer": "ipython3",
      "version": "3.8.9"
    },
    "vscode": {
      "interpreter": {
        "hash": "31f2aee4e71d21fbe5cf8b01ff0e069b9275f58929596ceb00d14d90e3e16cd6"
      }
    },
    "colab": {
      "provenance": [],
      "include_colab_link": true
    }
  },
  "nbformat": 4,
  "nbformat_minor": 0
}