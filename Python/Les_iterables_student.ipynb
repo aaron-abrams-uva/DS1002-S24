{
  "cells": [
    {
      "cell_type": "markdown",
      "metadata": {
        "id": "view-in-github",
        "colab_type": "text"
      },
      "source": [
        "<a href=\"https://colab.research.google.com/github/aaron-abrams-uva/DS1002-S24/blob/main/Python/Les_iterables_student.ipynb\" target=\"_parent\"><img src=\"https://colab.research.google.com/assets/colab-badge.svg\" alt=\"Open In Colab\"/></a>"
      ]
    },
    {
      "cell_type": "markdown",
      "metadata": {
        "id": "Ls2EwXAaJxYO"
      },
      "source": [
        "## Iterables and Iterators\n",
        "\n",
        "\n",
        "### University of Virginia\n",
        "### DS 1002: Programming for Data Science\n",
        "---  \n",
        "\n",
        "### PREREQUISITES\n",
        "- data types\n",
        "- variables\n",
        "- `for` loop\n",
        "\n",
        "### SOURCES\n",
        "- Iterable objects  \n",
        "http://tutorial.eyehunts.com/python/python-iterable-object-lists-tuples-dictionaries-and-sets/\n",
        "\n",
        "\n",
        "- Iterators  \n",
        "https://www.geeksforgeeks.org/iterators-in-python/\n",
        "\n",
        "\n",
        "### OBJECTIVES\n",
        "- Define iterables and iterators\n",
        "- Using two methods, show how iterators can be used to return data from sets, lists, strings, tuples, dicts:\n",
        "  - `for` loops    \n",
        "  - `iter()` and `next()`\n",
        "\n",
        "\n",
        "\n",
        "### CONCEPTS\n",
        "\n",
        "- `iterable objects` or `iterables`\n",
        "- iterators\n",
        "- iteration\n",
        "- sequence\n",
        "- collection\n",
        "\n",
        "\n",
        "---\n",
        "\n",
        "## I. Defining Iterables and Iterators\n",
        "\n",
        "`Iterable objects` or `iterables` can return elements one at a time  \n",
        "\n",
        "An `iterator` is an object that iterates over iterable objects such as sets, lists, tuples, dictionaries, and strings  \n",
        "\n",
        "`Iteration` can be implemented:\n",
        "- with a `for` loop\n",
        "- with the `next()` method\n",
        "\n"
      ]
    },
    {
      "cell_type": "markdown",
      "metadata": {
        "id": "kXJiIhR3JxYP"
      },
      "source": [
        "## II. Misc\n",
        "\n",
        "Other useful tools for iterating\n",
        "\n",
        "**Ranges**\n",
        "\n",
        "If you just want to iterate for a known number of times, use `range()`"
      ]
    },
    {
      "cell_type": "code",
      "execution_count": 1,
      "metadata": {
        "colab": {
          "base_uri": "https://localhost:8080/"
        },
        "id": "rt_o9y-WJxYP",
        "outputId": "9d2c0df9-5a11-4cd1-b1e1-f487f7c8fd2c"
      },
      "outputs": [
        {
          "output_type": "stream",
          "name": "stdout",
          "text": [
            "01 |\n",
            "02 ||||\n",
            "03 |||||||||\n",
            "04 ||||||||||||||||\n",
            "05 |||||||||||||||||||||||||\n",
            "06 ||||||||||||||||||||||||||||||||||||\n",
            "07 |||||||||||||||||||||||||||||||||||||||||||||||||\n",
            "08 ||||||||||||||||||||||||||||||||||||||||||||||||||||||||||||||||\n",
            "09 |||||||||||||||||||||||||||||||||||||||||||||||||||||||||||||||||||||||||||||||||\n",
            "10 ||||||||||||||||||||||||||||||||||||||||||||||||||||||||||||||||||||||||||||||||||||||||||||||||||||\n"
          ]
        }
      ],
      "source": [
        "for i in range(10) :\n",
        "    print(str(i+1).zfill(2), (i+1)**2 * '|')"
      ]
    },
    {
      "cell_type": "markdown",
      "metadata": {
        "id": "MGNlj7EMJxYQ"
      },
      "source": [
        "`zfill()` adds zeros to the front of a string until the it reaches the specified length"
      ]
    },
    {
      "cell_type": "markdown",
      "metadata": {
        "id": "EicBwA6GJxYQ"
      },
      "source": [
        "**Formatted String Literals (i.e. f-strings)**\n",
        "\n",
        "Also called “formatted string literals,” f-strings are string literals that have an f at the beginning and curly braces containing expressions that will be replaced with their values. The expressions are evaluated at runtime and then formatted using the `__format__` protocol.\n",
        "\n",
        "Example:"
      ]
    },
    {
      "cell_type": "code",
      "execution_count": 2,
      "metadata": {
        "colab": {
          "base_uri": "https://localhost:8080/",
          "height": 56
        },
        "id": "_iFsJoSeJxYQ",
        "outputId": "6da98209-ce86-4f76-ad48-e08eb25691d7"
      },
      "outputs": [
        {
          "output_type": "execute_result",
          "data": {
            "text/plain": [
              "'Hello, Ted Lasso. You are 42.'"
            ],
            "application/vnd.google.colaboratory.intrinsic+json": {
              "type": "string"
            }
          },
          "metadata": {},
          "execution_count": 2
        }
      ],
      "source": [
        "name = 'Ted Lasso'\n",
        "age = 42\n",
        "\n",
        "f\"Hello, {name}. You are {age}.\""
      ]
    },
    {
      "cell_type": "markdown",
      "metadata": {
        "id": "k5-JqSp-JxYR"
      },
      "source": [
        "**Get iteration number**  \n",
        "\n",
        "Often you will want to know what iteration number you are in the loop, use `enumerate()`  \n",
        "\n",
        "`enumerate()` returns the index and key for each iteration"
      ]
    },
    {
      "cell_type": "code",
      "source": [
        "ff_teams = {'NCSU' : 3, 'Iowa' : 1, 'South Carolina' : 1, 'Connecticut': 3}\n",
        "\n",
        "enumerate(ff_teams)\n",
        "#print(type(enumerate(ff_teams)))\n",
        "#for x in enumerate(ff_teams): print (type(x))\n",
        "#list(enumerate(ff_teams))\n",
        "\n"
      ],
      "metadata": {
        "colab": {
          "base_uri": "https://localhost:8080/"
        },
        "id": "fgPJ4uKkLKcm",
        "outputId": "cdff6bb3-b399-4362-9585-815cee28c4b1"
      },
      "execution_count": 65,
      "outputs": [
        {
          "output_type": "execute_result",
          "data": {
            "text/plain": [
              "<enumerate at 0x7a0fd59c5540>"
            ]
          },
          "metadata": {},
          "execution_count": 65
        }
      ]
    },
    {
      "cell_type": "code",
      "execution_count": 30,
      "metadata": {
        "colab": {
          "base_uri": "https://localhost:8080/"
        },
        "id": "gbs3eOYfJxYR",
        "outputId": "e3545cdb-88e0-4bf7-8d2d-963d2b728593"
      },
      "outputs": [
        {
          "output_type": "stream",
          "name": "stdout",
          "text": [
            "School:  NCSU \t Seed: 3\n",
            "School:  Iowa \t Seed: 1\n",
            "School:  South Carolina \t Seed: 1\n",
            "School:  Connecticut \t Seed: 3\n",
            "--------------------------------------------------\n",
            "00_NCSU: \t Seed: 3\n",
            "01_Iowa: \t Seed: 1\n",
            "02_South Carolina: \t Seed: 1\n",
            "03_Connecticut: \t Seed: 3\n"
          ]
        }
      ],
      "source": [
        "for school in ff_teams:\n",
        "  print(f\"School:  {school} \\t Seed: {ff_teams[school]}\")\n",
        "\n",
        "print(50*'-')\n",
        "\n",
        "for i, school in enumerate(ff_teams) :\n",
        "   school_name = f\"{str(i).zfill(2)}_{school}: \\t Seed: {ff_teams[school]}\"\n",
        "   print(school_name)"
      ]
    },
    {
      "cell_type": "markdown",
      "metadata": {
        "id": "RPtes3DRJxYS"
      },
      "source": [
        "## III. Sequences and Collections\n",
        "\n",
        "Iterables: `list`, `str`, `tuple`, `set`, `dict`\n",
        "\n",
        "Lists, tuples, dictionaries, and strings are `sequences`. Sequences are designed so that elements come out of them in the same order they were put in.\n",
        "\n",
        "Sets are not sequences, since they don't keep elements in order.\n",
        "They are called `collections`.  The ordering of the items is arbitrary.\n",
        "\n",
        "NOTE: This has changed for dictionaries in Python 3.7:  \n",
        "\n",
        "> the insertion-order preservation nature of dict objects has been declared to be an official part of the Python language spec.\\\n",
        "-- [What's New in Python 3.7](https://docs.python.org/3.7/whatsnew/3.7.html)"
      ]
    },
    {
      "cell_type": "markdown",
      "metadata": {
        "id": "q-X5D4ndJxYS"
      },
      "source": [
        "## IV. Lists"
      ]
    },
    {
      "cell_type": "markdown",
      "metadata": {
        "id": "_1sLABrCJxYS"
      },
      "source": [
        "**iterating using `for`**"
      ]
    },
    {
      "cell_type": "code",
      "execution_count": 31,
      "metadata": {
        "colab": {
          "base_uri": "https://localhost:8080/"
        },
        "id": "byytUDkzJxYS",
        "outputId": "0d7c5c83-7fe3-4784-b1ac-8a3d24a34f7e"
      },
      "outputs": [
        {
          "output_type": "stream",
          "name": "stdout",
          "text": [
            "living room\n",
            "was\n",
            "quite\n",
            "large\n"
          ]
        }
      ],
      "source": [
        "tokens = ['living room','was','quite','large']\n",
        "\n",
        "for tok in tokens:\n",
        "    print(tok)"
      ]
    },
    {
      "cell_type": "markdown",
      "metadata": {
        "id": "YE_aYxhTJxYS"
      },
      "source": [
        "**iterating using `iter()` and `next()`**\n",
        "\n",
        "`iter()` - gets an iterator. Outputs a value each time it is used.\n",
        "`next()` - gets the next item from the iterator"
      ]
    },
    {
      "cell_type": "code",
      "execution_count": 32,
      "metadata": {
        "colab": {
          "base_uri": "https://localhost:8080/"
        },
        "id": "9Xp1AciFJxYS",
        "outputId": "2a700d69-6f2e-4bda-cc26-f5f278914f0c"
      },
      "outputs": [
        {
          "output_type": "stream",
          "name": "stdout",
          "text": [
            "living room\n",
            "was\n",
            "quite\n",
            "large\n"
          ]
        }
      ],
      "source": [
        "tokens = ['living room','was','quite','large']\n",
        "\n",
        "myit = iter(tokens)\n",
        "print(next(myit))\n",
        "print(next(myit))\n",
        "print(next(myit))\n",
        "print(next(myit))"
      ]
    },
    {
      "cell_type": "markdown",
      "metadata": {
        "id": "WAMcotkKJxYS"
      },
      "source": [
        "Calling `next()` when the iterator has reached the end of the list produces an exception:"
      ]
    },
    {
      "cell_type": "code",
      "execution_count": 34,
      "metadata": {
        "id": "uLIx47e6JxYS"
      },
      "outputs": [],
      "source": [
        "print(next(myit))"
      ]
    },
    {
      "cell_type": "markdown",
      "metadata": {
        "id": "meYbNT6oJxYS"
      },
      "source": [
        "Next, look at the type of the iterator, and the documentation"
      ]
    },
    {
      "cell_type": "code",
      "execution_count": 35,
      "metadata": {
        "colab": {
          "base_uri": "https://localhost:8080/"
        },
        "id": "wHT28_luJxYT",
        "outputId": "dcb27a0e-00aa-4228-fdf0-10601c061b54"
      },
      "outputs": [
        {
          "output_type": "execute_result",
          "data": {
            "text/plain": [
              "list_iterator"
            ]
          },
          "metadata": {},
          "execution_count": 35
        }
      ],
      "source": [
        "type(myit)"
      ]
    },
    {
      "cell_type": "code",
      "execution_count": 36,
      "metadata": {
        "scrolled": true,
        "colab": {
          "base_uri": "https://localhost:8080/"
        },
        "id": "cjKX16t7JxYT",
        "outputId": "deed69f1-7a7b-4776-d739-c3cfa5185fb3"
      },
      "outputs": [
        {
          "output_type": "stream",
          "name": "stdout",
          "text": [
            "Help on list_iterator object:\n",
            "\n",
            "class list_iterator(object)\n",
            " |  Methods defined here:\n",
            " |  \n",
            " |  __getattribute__(self, name, /)\n",
            " |      Return getattr(self, name).\n",
            " |  \n",
            " |  __iter__(self, /)\n",
            " |      Implement iter(self).\n",
            " |  \n",
            " |  __length_hint__(...)\n",
            " |      Private method returning an estimate of len(list(it)).\n",
            " |  \n",
            " |  __next__(self, /)\n",
            " |      Implement next(self).\n",
            " |  \n",
            " |  __reduce__(...)\n",
            " |      Return state information for pickling.\n",
            " |  \n",
            " |  __setstate__(...)\n",
            " |      Set state information for unpickling.\n",
            "\n"
          ]
        }
      ],
      "source": [
        "help(myit)"
      ]
    },
    {
      "cell_type": "code",
      "execution_count": 37,
      "metadata": {
        "colab": {
          "base_uri": "https://localhost:8080/"
        },
        "id": "c5E2vIrQJxYT",
        "outputId": "3095b15e-d156-49f0-f34c-7e85ef637583"
      },
      "outputs": [
        {
          "output_type": "stream",
          "name": "stdout",
          "text": [
            "Help on built-in function next in module builtins:\n",
            "\n",
            "next(...)\n",
            "    next(iterator[, default])\n",
            "    \n",
            "    Return the next item from the iterator. If default is given and the iterator\n",
            "    is exhausted, it is returned instead of raising StopIteration.\n",
            "\n"
          ]
        }
      ],
      "source": [
        "help(next)"
      ]
    },
    {
      "cell_type": "markdown",
      "metadata": {
        "id": "UIXACk7fJxYT"
      },
      "source": [
        "**Note that `for` implicitly creates an iterator and executes `next()` on each loop iteration. This is best way to iterate through a list-like object.**"
      ]
    },
    {
      "cell_type": "markdown",
      "metadata": {
        "id": "YtyUu7bvJxYT"
      },
      "source": [
        "## V. Strings"
      ]
    },
    {
      "cell_type": "markdown",
      "metadata": {
        "id": "lMhH8bWmJxYT"
      },
      "source": [
        "**iterating using `for`**"
      ]
    },
    {
      "cell_type": "code",
      "execution_count": 38,
      "metadata": {
        "colab": {
          "base_uri": "https://localhost:8080/"
        },
        "id": "yMYWzgllJxYT",
        "outputId": "e9c01172-fa56-4e28-e848-33413cdfd754"
      },
      "outputs": [
        {
          "output_type": "stream",
          "name": "stdout",
          "text": [
            "d\n",
            "a\n",
            "t\n",
            "u\n",
            "m\n"
          ]
        }
      ],
      "source": [
        "strn = 'datum'\n",
        "\n",
        "for s in strn:\n",
        "    print(s)"
      ]
    },
    {
      "cell_type": "markdown",
      "metadata": {
        "id": "rsyO8tMfJxYU"
      },
      "source": [
        "**iterating using `iter()` and `next()`**"
      ]
    },
    {
      "cell_type": "code",
      "execution_count": 39,
      "metadata": {
        "colab": {
          "base_uri": "https://localhost:8080/"
        },
        "id": "8QRuj3_9JxYU",
        "outputId": "6f7fef45-4c79-4477-8852-b0b11770db8a"
      },
      "outputs": [
        {
          "output_type": "stream",
          "name": "stdout",
          "text": [
            "d\n",
            "a\n",
            "t\n",
            "u\n"
          ]
        }
      ],
      "source": [
        "st = iter(strn)\n",
        "\n",
        "print(next(st))\n",
        "print(next(st))\n",
        "print(next(st))\n",
        "print(next(st))"
      ]
    },
    {
      "cell_type": "markdown",
      "metadata": {
        "id": "hDF7SQw8JxYU"
      },
      "source": [
        "## VI. Tuples"
      ]
    },
    {
      "cell_type": "markdown",
      "metadata": {
        "id": "oFBT99gaJxYU"
      },
      "source": [
        "**iterating using `for` loop**"
      ]
    },
    {
      "cell_type": "code",
      "execution_count": 40,
      "metadata": {
        "colab": {
          "base_uri": "https://localhost:8080/"
        },
        "id": "BgEMEu11JxYU",
        "outputId": "e5536c96-d975-4163-ddfd-abf7c5a24287"
      },
      "outputs": [
        {
          "output_type": "stream",
          "name": "stdout",
          "text": [
            "auc\n",
            "recall\n",
            "precision\n",
            "support\n"
          ]
        }
      ],
      "source": [
        "metrics = ('auc','recall','precision','support')\n",
        "\n",
        "for met in metrics:\n",
        "    print(met)"
      ]
    },
    {
      "cell_type": "markdown",
      "metadata": {
        "id": "jhs7i2KKJxYU"
      },
      "source": [
        "**iterating using `iter()` and `next()`**"
      ]
    },
    {
      "cell_type": "code",
      "execution_count": 45,
      "metadata": {
        "colab": {
          "base_uri": "https://localhost:8080/"
        },
        "id": "uWR6PyM5JxYU",
        "outputId": "4feab487-e2dc-452e-a392-b20e5c9653d8"
      },
      "outputs": [
        {
          "output_type": "stream",
          "name": "stdout",
          "text": [
            "auc\n",
            "recall\n",
            "precision\n",
            "support\n"
          ]
        }
      ],
      "source": [
        "metrics = ('auc','recall','precision','support')\n",
        "\n",
        "tup_metrics = iter(metrics)\n",
        "print(next(tup_metrics))\n",
        "print(next(tup_metrics))\n",
        "print(next(tup_metrics))\n",
        "print(next(tup_metrics))"
      ]
    },
    {
      "cell_type": "markdown",
      "source": [
        "**`break` and `continue`**"
      ],
      "metadata": {
        "id": "Z0P6HM7-OufQ"
      }
    },
    {
      "cell_type": "code",
      "source": [
        "for met in metrics:\n",
        "    print(met)\n",
        "    if met == 'precision':\n",
        "      break\n",
        "    print(met)\n",
        "\n",
        "print(40*'-')\n",
        "\n",
        "for met in metrics:\n",
        "    print(met)\n",
        "    if met == 'precision':\n",
        "      continue\n",
        "    print(met)\n"
      ],
      "metadata": {
        "colab": {
          "base_uri": "https://localhost:8080/"
        },
        "id": "FwluPeGiOO8O",
        "outputId": "8d77cc55-8758-4fe9-f5fa-d17e104e2e27"
      },
      "execution_count": 44,
      "outputs": [
        {
          "output_type": "stream",
          "name": "stdout",
          "text": [
            "auc\n",
            "auc\n",
            "recall\n",
            "recall\n",
            "precision\n",
            "----------------------------------------\n",
            "auc\n",
            "auc\n",
            "recall\n",
            "recall\n",
            "precision\n",
            "support\n",
            "support\n"
          ]
        }
      ]
    },
    {
      "cell_type": "markdown",
      "metadata": {
        "id": "AmrGuy-jJxYU"
      },
      "source": [
        "## VII. Dictionaries"
      ]
    },
    {
      "cell_type": "markdown",
      "metadata": {
        "id": "Laz3TzXiJxYU"
      },
      "source": [
        "\n",
        "**iterating using `for-loop`**"
      ]
    },
    {
      "cell_type": "code",
      "execution_count": 46,
      "metadata": {
        "id": "VoVbs27WJxYU"
      },
      "outputs": [],
      "source": [
        "courses = {'fall':['regression','python'], 'spring':['capstone','pyspark','nlp']}"
      ]
    },
    {
      "cell_type": "markdown",
      "metadata": {
        "id": "pzqZChNbJxYU"
      },
      "source": [
        "*Python's default is to interate over the keys*"
      ]
    },
    {
      "cell_type": "code",
      "execution_count": 47,
      "metadata": {
        "colab": {
          "base_uri": "https://localhost:8080/"
        },
        "id": "WXKra7rJJxYU",
        "outputId": "8cddfb11-8321-4199-b336-13bd2f468e66"
      },
      "outputs": [
        {
          "output_type": "stream",
          "name": "stdout",
          "text": [
            "fall\n",
            "spring\n"
          ]
        }
      ],
      "source": [
        "# iterate over keys\n",
        "\n",
        "for k in courses:\n",
        "    print(k)"
      ]
    },
    {
      "cell_type": "code",
      "execution_count": 48,
      "metadata": {
        "colab": {
          "base_uri": "https://localhost:8080/"
        },
        "id": "49j_Lf4jJxYU",
        "outputId": "a89930a5-6036-4550-d861-95a588f9abf1"
      },
      "outputs": [
        {
          "output_type": "stream",
          "name": "stdout",
          "text": [
            "fall\n",
            "spring\n"
          ]
        }
      ],
      "source": [
        "# iterate over keys, using keys() method\n",
        "\n",
        "for k in courses.keys():\n",
        "    print(k)"
      ]
    },
    {
      "cell_type": "code",
      "execution_count": 49,
      "metadata": {
        "colab": {
          "base_uri": "https://localhost:8080/"
        },
        "id": "ht3y7R-6JxYV",
        "outputId": "e64c0114-e40b-42f8-b4cb-f251dbae1669"
      },
      "outputs": [
        {
          "output_type": "stream",
          "name": "stdout",
          "text": [
            "['regression', 'python']\n",
            "['capstone', 'pyspark', 'nlp']\n"
          ]
        }
      ],
      "source": [
        "# iterate over values\n",
        "\n",
        "for v in courses.values():\n",
        "    print(v)"
      ]
    },
    {
      "cell_type": "code",
      "execution_count": 50,
      "metadata": {
        "colab": {
          "base_uri": "https://localhost:8080/"
        },
        "id": "l479ozgEJxYV",
        "outputId": "1456c5f2-a2dd-47a0-ea70-89910d899466"
      },
      "outputs": [
        {
          "output_type": "stream",
          "name": "stdout",
          "text": [
            "key  : fall\n",
            "value: ['regression', 'python']\n",
            "----------------------------------------\n",
            "key  : spring\n",
            "value: ['capstone', 'pyspark', 'nlp']\n",
            "----------------------------------------\n"
          ]
        }
      ],
      "source": [
        "# iterate over keys and values using `items()`\n",
        "\n",
        "for k, v in courses.items():\n",
        "    print(\"key  :\", k)\n",
        "    print(\"value:\", v)\n",
        "    print(\"-\"*40)"
      ]
    },
    {
      "cell_type": "markdown",
      "metadata": {
        "id": "74tjoMLfJxYV"
      },
      "source": [
        "Alternatively, keys and values can be extracted from the dict by:\n",
        "- looping over the keys\n",
        "- extract the value by indexing into the dict with the key"
      ]
    },
    {
      "cell_type": "code",
      "execution_count": 51,
      "metadata": {
        "colab": {
          "base_uri": "https://localhost:8080/"
        },
        "id": "zC2zr-YKJxYV",
        "outputId": "3c339ce8-bc46-4ca4-bb25-524ea4019213"
      },
      "outputs": [
        {
          "output_type": "stream",
          "name": "stdout",
          "text": [
            "key  : fall\n",
            "value: ['regression', 'python']\n",
            "----------------------------------------\n",
            "key  : spring\n",
            "value: ['capstone', 'pyspark', 'nlp']\n",
            "----------------------------------------\n"
          ]
        }
      ],
      "source": [
        "# iterate over keys and values using `key()`.\n",
        "\n",
        "for k in courses.keys():\n",
        "    print(\"key  :\", k)\n",
        "    print(\"value:\", courses[k]) # index into the dict with the key\n",
        "    print(\"-\"*40)"
      ]
    },
    {
      "cell_type": "code",
      "execution_count": 57,
      "metadata": {
        "colab": {
          "base_uri": "https://localhost:8080/"
        },
        "id": "yLl8RR4zJxYV",
        "outputId": "9216e5cc-95c2-48b3-87e2-c64e0991da2d"
      },
      "outputs": [
        {
          "output_type": "stream",
          "name": "stdout",
          "text": [
            "fall:\tregression, python\n",
            "spring:\tcapstone, pyspark, nlp\n"
          ]
        }
      ],
      "source": [
        "# iterate over keys and values using `key()`.\n",
        "for k in courses.keys():\n",
        "    print(f\"{k}:\\t{', '.join(courses[k])}\") # index into the dict with the key\n"
      ]
    },
    {
      "cell_type": "markdown",
      "metadata": {
        "id": "p0WYEwIZJxYV"
      },
      "source": [
        "enumerate() will return the index, key for each row"
      ]
    },
    {
      "cell_type": "code",
      "execution_count": 80,
      "metadata": {
        "colab": {
          "base_uri": "https://localhost:8080/"
        },
        "id": "MicWpoFmJxYV",
        "outputId": "a2d3a783-fea1-4703-d1e8-f87f59a7f621"
      },
      "outputs": [
        {
          "output_type": "stream",
          "name": "stdout",
          "text": [
            "(0, 'fall')\n",
            "(1, 'spring')\n"
          ]
        }
      ],
      "source": [
        "for k in enumerate(courses):\n",
        "    print(k)"
      ]
    },
    {
      "cell_type": "markdown",
      "metadata": {
        "id": "bPG5_GDsJxYV"
      },
      "source": [
        "## VIII. Sets"
      ]
    },
    {
      "cell_type": "markdown",
      "metadata": {
        "id": "kyFrM8ttJxYV"
      },
      "source": [
        "**iterating using `for`**  \n",
        "note: set has no notion of order"
      ]
    },
    {
      "cell_type": "code",
      "execution_count": 81,
      "metadata": {
        "colab": {
          "base_uri": "https://localhost:8080/"
        },
        "id": "CI1-G88CJxYV",
        "outputId": "e89b31f1-949c-49fb-e7a2-9b672ae4b693"
      },
      "outputs": [
        {
          "output_type": "stream",
          "name": "stdout",
          "text": [
            "belle\n",
            "rapunzel\n",
            "cinderella\n"
          ]
        }
      ],
      "source": [
        "princesses = {'belle','cinderella','rapunzel'}\n",
        "\n",
        "for princess in princesses:\n",
        "    print(princess)"
      ]
    },
    {
      "cell_type": "markdown",
      "metadata": {
        "id": "VhmccmcpJxYV"
      },
      "source": [
        "**iterating using `iter()` and `next()`**"
      ]
    },
    {
      "cell_type": "code",
      "execution_count": 95,
      "metadata": {
        "colab": {
          "base_uri": "https://localhost:8080/"
        },
        "id": "P0jtnh6TJxYV",
        "outputId": "4f0fbcfc-b159-469e-aaec-3d9a869d2568"
      },
      "outputs": [
        {
          "output_type": "stream",
          "name": "stdout",
          "text": [
            "belle\n",
            "rapunzel\n",
            "cinderella\n"
          ]
        }
      ],
      "source": [
        "princesses = {'aaron','belle','cinderella','rapunzel'}\n",
        "\n",
        "myset = iter(princesses)\n",
        "print(next(myset))\n",
        "print(next(myset))\n",
        "print(next(myset))"
      ]
    },
    {
      "cell_type": "code",
      "source": [
        "enumerate(princesses)\n",
        "list(enumerate(princesses))"
      ],
      "metadata": {
        "colab": {
          "base_uri": "https://localhost:8080/"
        },
        "id": "lDadR082Q0PD",
        "outputId": "54b9eff4-fdf9-4715-97f5-014ea83499e8"
      },
      "execution_count": 91,
      "outputs": [
        {
          "output_type": "execute_result",
          "data": {
            "text/plain": [
              "[(0, 'belle'), (1, 'rapunzel'), (2, 'cinderella'), (3, 'aaron')]"
            ]
          },
          "metadata": {},
          "execution_count": 91
        }
      ]
    },
    {
      "cell_type": "markdown",
      "metadata": {
        "id": "hz0-_t5SJxYV"
      },
      "source": [
        "---"
      ]
    },
    {
      "cell_type": "markdown",
      "metadata": {
        "id": "kVllgaAkJxYV"
      },
      "source": [
        "### TRY FOR YOURSELF (UNGRADED EXERCISES)"
      ]
    },
    {
      "cell_type": "markdown",
      "metadata": {
        "id": "aJzCf636JxYV"
      },
      "source": [
        "1a) Create a list of strings, where each string contains a mix of uppercase and lowercase letters.  \n",
        "Write a `for` loop` to iterate over the strings and:\n",
        "- lowercase the string (hint: `lower()`)\n",
        "- print the string"
      ]
    },
    {
      "cell_type": "code",
      "execution_count": null,
      "metadata": {
        "jupyter": {
          "source_hidden": true
        },
        "id": "8L2NOoV_JxYV"
      },
      "outputs": [],
      "source": [
        "names = ['John', 'Paul', 'George', 'Ringo']\n"
      ]
    },
    {
      "cell_type": "markdown",
      "metadata": {
        "id": "E21TOxUdJxYW"
      },
      "source": [
        "1b) Using the list from (1a), use `iter()` and `next()` to iterate over the list, printing each string.  \n",
        "The strings don't need to be lowercased."
      ]
    },
    {
      "cell_type": "code",
      "execution_count": null,
      "metadata": {
        "jupyter": {
          "source_hidden": true
        },
        "id": "zUnhJGA6JxYW"
      },
      "outputs": [],
      "source": []
    },
    {
      "cell_type": "markdown",
      "metadata": {
        "id": "aAYR3dW_JxYW"
      },
      "source": [
        "2a) Create a dictionary. Use a `for` loop with `items()` to print each key-value pair."
      ]
    },
    {
      "cell_type": "code",
      "execution_count": null,
      "metadata": {
        "jupyter": {
          "source_hidden": true
        },
        "id": "z_dE_f3vJxYW"
      },
      "outputs": [],
      "source": [
        "city_zip = {'Santa Barbara':93103, 'Charlottesville':22903}\n",
        "\n"
      ]
    },
    {
      "cell_type": "markdown",
      "metadata": {
        "id": "Pdzi-GP8JxYW"
      },
      "source": [
        "2b) Using the dictionary from (2a), use a `for` loop with `key()` to print each key-value pair.  \n",
        "To extract the values, use the key to index into the dict."
      ]
    },
    {
      "cell_type": "code",
      "execution_count": null,
      "metadata": {
        "jupyter": {
          "source_hidden": true
        },
        "id": "N2RGOSyQJxYW"
      },
      "outputs": [],
      "source": []
    },
    {
      "cell_type": "markdown",
      "metadata": {
        "id": "XAGhJknZJxYW"
      },
      "source": [
        "---"
      ]
    },
    {
      "cell_type": "markdown",
      "metadata": {
        "id": "6isR8dB9JxYW"
      },
      "source": [
        "## IX. Nested Loops  \n",
        "\n",
        "Iterations can be nested!\n",
        "\n",
        "This works well with nested data structures, like dicts within dicts.\n",
        "\n",
        "This is basically how `JSON` files are handled.\n",
        "\n",
        "Be careful, though -- these can get complicated."
      ]
    },
    {
      "cell_type": "code",
      "source": [
        "courses"
      ],
      "metadata": {
        "colab": {
          "base_uri": "https://localhost:8080/"
        },
        "id": "3kJuOnvTRvir",
        "outputId": "1d87d14a-715c-4f70-f675-4ef4940e283b"
      },
      "execution_count": 97,
      "outputs": [
        {
          "output_type": "execute_result",
          "data": {
            "text/plain": [
              "{'fall': ['regression', 'python'], 'spring': ['capstone', 'pyspark', 'nlp']}"
            ]
          },
          "metadata": {},
          "execution_count": 97
        }
      ]
    },
    {
      "cell_type": "code",
      "execution_count": 96,
      "metadata": {
        "colab": {
          "base_uri": "https://localhost:8080/"
        },
        "id": "oFF7-DdMJxYW",
        "outputId": "cd2f2d9a-9d0a-47b7-9eaf-5cdc3481e4bb"
      },
      "outputs": [
        {
          "output_type": "stream",
          "name": "stdout",
          "text": [
            "1. FALL:\n",
            "\t1.1. regression\n",
            "\t1.2. python\n",
            "2. SPRING:\n",
            "\t2.1. capstone\n",
            "\t2.2. pyspark\n",
            "\t2.3. nlp\n"
          ]
        }
      ],
      "source": [
        "for i, semester in enumerate(courses):\n",
        "    print(f\"{i+1}. {semester.upper()}:\")\n",
        "    for j, course in enumerate(courses[semester]):\n",
        "        print(f\"\\t{i+1}.{j+1}. {course}\")"
      ]
    },
    {
      "cell_type": "markdown",
      "metadata": {
        "id": "Ieak7T-SJxYW"
      },
      "source": [
        "## X. List Comprehensions\n",
        "\n",
        "Start with this `for` loop:"
      ]
    },
    {
      "cell_type": "code",
      "execution_count": 98,
      "metadata": {
        "colab": {
          "base_uri": "https://localhost:8080/"
        },
        "id": "mDCukjo5JxYW",
        "outputId": "be26ca6c-0229-4597-c765-90b02c4c4cb8"
      },
      "outputs": [
        {
          "output_type": "execute_result",
          "data": {
            "text/plain": [
              "[True, True, False, False, False, True]"
            ]
          },
          "metadata": {},
          "execution_count": 98
        }
      ],
      "source": [
        "vals = [1, 5, 6, 8, 12, 15]\n",
        "is_odd = []\n",
        "\n",
        "for val in vals:\n",
        "    if val % 2: # if remainder is one, val is odd\n",
        "        is_odd.append(True)\n",
        "    else:       # else it's not odd\n",
        "        is_odd.append(False)\n",
        "\n",
        "is_odd"
      ]
    },
    {
      "cell_type": "markdown",
      "metadata": {
        "id": "ys8tPDEtJxYW"
      },
      "source": [
        "The code loops over each value in the list, checks the condition, and appends to a new list.  \n",
        "\n",
        "The code works, but it's lengthy compared to a list comprehension.  \n",
        "\n",
        "The approach takes extra time to write and understand.  \n",
        "\n",
        "Let's solve with a list comprehension:"
      ]
    },
    {
      "cell_type": "code",
      "source": [
        "print(is_odd)\n",
        "del(is_odd)\n",
        "print(is_odd)"
      ],
      "metadata": {
        "id": "Bk6GGy74R4LL"
      },
      "execution_count": 102,
      "outputs": []
    },
    {
      "cell_type": "code",
      "execution_count": 103,
      "metadata": {
        "colab": {
          "base_uri": "https://localhost:8080/"
        },
        "id": "A3DZGuB-JxYW",
        "outputId": "73889a61-1dbc-41c2-87e3-714212771e7c"
      },
      "outputs": [
        {
          "output_type": "execute_result",
          "data": {
            "text/plain": [
              "[True, True, False, False, False, True]"
            ]
          },
          "metadata": {},
          "execution_count": 103
        }
      ],
      "source": [
        "is_odd = [val % 2 == 1 for val in vals]\n",
        "is_odd\n"
      ]
    },
    {
      "cell_type": "markdown",
      "metadata": {
        "id": "JtSwIIBaJxYW"
      },
      "source": [
        "Much shorter, and if you understand the syntax, quicker to interpet.\n",
        "\n",
        "Note the in-place use of an expression.\n",
        "\n",
        "Now let's discuss the syntax."
      ]
    },
    {
      "cell_type": "markdown",
      "metadata": {
        "id": "t6b5cE6NJxYW"
      },
      "source": [
        "## Comprehensions in General\n",
        "\n",
        "Comprehensions provide a concise method for iterating over any list-like object to a new list like object.\n",
        "\n",
        "There are comprehensions for each list-like object:\n",
        "* List comprehensions\n",
        "* Dictionary comprehensions\n",
        "* Tuple comprehensions\n",
        "* Set comprehensions\n",
        "\n",
        "Comprehensions are essentially very concise `for` loops. They are compact visually, but they also are more efficient than loops.\n",
        "\n",
        "All comprehensions have the form:\n",
        "\n",
        "listlike_result = `[ expression + context]`\n",
        "\n",
        "The type of comprehension is indicated by the use of enclosing pairs, just like anonymous constructors:\n",
        "\n",
        "* List comprehensions       `[expression + context]`\n",
        "* Dictionary comprehensions `{expression + context}`\n",
        "* Tuple comprehensions      `(expression + context)`\n",
        "* Set comprehensions        `{expression + context}`\n",
        "\n",
        "\n",
        "**Expression** defines what to do with each element in the list. This has the structure of the kind of comprehension. So, dictionary comprehension expressions take the form `k:v` while sets use `v`.\n",
        "\n",
        "**Context** defines which list elements to select.  The context always consists of an arbitrary number of `for` and `if` statements.\n",
        "\n",
        "---\n",
        "\n",
        "**Another example:**\n",
        "\n",
        "*Stop Word Remover*\n",
        "\n",
        "Create list of words, and list of stop words.  \n",
        "Filter out the stop words (considered not important)."
      ]
    },
    {
      "cell_type": "code",
      "execution_count": 105,
      "metadata": {
        "colab": {
          "base_uri": "https://localhost:8080/"
        },
        "id": "UbopEmEnJxYW",
        "outputId": "d9709177-d917-4c67-d39a-71c047ffe301"
      },
      "outputs": [
        {
          "output_type": "execute_result",
          "data": {
            "text/plain": [
              "['not', 'fan', 'film']"
            ]
          },
          "metadata": {},
          "execution_count": 105
        }
      ],
      "source": [
        "stop_words = ['a','am','an','i','the','of']\n",
        "words      = ['i','am','not','a','fan','of','the','film']\n",
        "\n",
        "clean_words = [wd for wd in words if wd not in stop_words]\n",
        "clean_words"
      ]
    },
    {
      "cell_type": "markdown",
      "metadata": {
        "id": "QCtUi_wTJxYX"
      },
      "source": [
        "-The expression is very simple: wd. keep the word if meets condition  \n",
        "-The condition does the work: if the word isn't in list of stop words, keep it"
      ]
    },
    {
      "cell_type": "markdown",
      "metadata": {
        "id": "GiJWHcgkJxYX"
      },
      "source": [
        "Side note: This task can also be done with sets, if you are not concerned with mulitple instances of the same word:"
      ]
    },
    {
      "cell_type": "code",
      "execution_count": 106,
      "metadata": {
        "colab": {
          "base_uri": "https://localhost:8080/"
        },
        "id": "fv2L2MZlJxYX",
        "outputId": "92a2cead-1a4a-4f0f-dcc7-f513b9a1ba7d"
      },
      "outputs": [
        {
          "output_type": "execute_result",
          "data": {
            "text/plain": [
              "{'fan', 'film', 'not'}"
            ]
          },
          "metadata": {},
          "execution_count": 106
        }
      ],
      "source": [
        "s1 = set(stop_words)\n",
        "s2 = set(words)\n",
        "s3 = s2 - s1\n",
        "\n",
        "s3"
      ]
    },
    {
      "cell_type": "markdown",
      "metadata": {
        "id": "GVyDyRS9JxYX"
      },
      "source": [
        "---\n",
        "**Another Example**  \n",
        "\n",
        "Select a list of measurements, retain elements containing mmHG"
      ]
    },
    {
      "cell_type": "code",
      "execution_count": 107,
      "metadata": {
        "colab": {
          "base_uri": "https://localhost:8080/"
        },
        "id": "m0XPQx-kJxYX",
        "outputId": "8a4b0372-e5c3-41b7-a377-9539183b3ab8"
      },
      "outputs": [
        {
          "output_type": "execute_result",
          "data": {
            "text/plain": [
              "['115mmHg', '120 mmHg']"
            ]
          },
          "metadata": {},
          "execution_count": 107
        }
      ],
      "source": [
        "units = 'mmHg'\n",
        "measures = ['20', '115mmHg', '5mg', '10 mg', '7.5dl', '120 mmHg']\n",
        "\n",
        "meas_mmhg = [meas for meas in measures if units in meas]\n",
        "\n",
        "meas_mmhg"
      ]
    },
    {
      "cell_type": "markdown",
      "metadata": {
        "id": "4DbOtXRAJxYX"
      },
      "source": [
        "Filter on 2 conditions"
      ]
    },
    {
      "cell_type": "code",
      "execution_count": 108,
      "metadata": {
        "colab": {
          "base_uri": "https://localhost:8080/"
        },
        "id": "2LM2ksjlJxYX",
        "outputId": "91a9190e-81e2-4db8-e0e1-3e84d6b760f7"
      },
      "outputs": [
        {
          "output_type": "execute_result",
          "data": {
            "text/plain": [
              "['115mmHg', '7.5dl', '120 mmHg']"
            ]
          },
          "metadata": {},
          "execution_count": 108
        }
      ],
      "source": [
        "units1 = 'mmHg'\n",
        "units2 = 'dl'\n",
        "meas_mmhg_dl = [meas for meas in measures if units1 in meas or units2 in meas]\n",
        "\n",
        "meas_mmhg_dl"
      ]
    },
    {
      "cell_type": "markdown",
      "metadata": {
        "id": "lxQPod1dJxYX"
      },
      "source": [
        "For clarity:"
      ]
    },
    {
      "cell_type": "code",
      "execution_count": 109,
      "metadata": {
        "colab": {
          "base_uri": "https://localhost:8080/"
        },
        "id": "j2lFYyHGJxYX",
        "outputId": "26eed572-c5b3-45ad-ea18-3d7cf66bc306"
      },
      "outputs": [
        {
          "output_type": "execute_result",
          "data": {
            "text/plain": [
              "['115mmHg', '7.5dl', '120 mmHg']"
            ]
          },
          "metadata": {},
          "execution_count": 109
        }
      ],
      "source": [
        "[meas\n",
        " for meas in measures\n",
        " if units1 in meas\n",
        " or units2 in meas]"
      ]
    },
    {
      "cell_type": "markdown",
      "metadata": {
        "id": "Vitk461EJxYX"
      },
      "source": [
        "---\n",
        "## Dictionary Comprehensions\n",
        "\n",
        "**Dictionary comprehensions** provide a concise method for iterating over a dictionary to create a new dictionary.\n",
        "\n",
        "This is common when data is structured as key-value pairs, and we'd like to filter the dict."
      ]
    },
    {
      "cell_type": "code",
      "execution_count": 110,
      "metadata": {
        "id": "7HiOfxN9JxYX"
      },
      "outputs": [],
      "source": [
        "# various deep learning models and their depths\n",
        "\n",
        "model_arch = {'cnn_1':'15 layers', 'cnn_2':'20 layers', 'rnn': '10 layers'}"
      ]
    },
    {
      "cell_type": "code",
      "execution_count": 111,
      "metadata": {
        "colab": {
          "base_uri": "https://localhost:8080/"
        },
        "id": "S8BjSeR_JxYX",
        "outputId": "8daefc53-eb09-458d-819d-c8072fd864d8"
      },
      "outputs": [
        {
          "output_type": "execute_result",
          "data": {
            "text/plain": [
              "{'cnn_1': '15 layers', 'cnn_2': '20 layers'}"
            ]
          },
          "metadata": {},
          "execution_count": 111
        }
      ],
      "source": [
        "# create a new dict containing only key-value pairs where the key contains 'cnn'\n",
        "\n",
        "cnns = {key:model_arch[key] for key in model_arch.keys() if 'cnn' in key}\n",
        "cnns"
      ]
    },
    {
      "cell_type": "markdown",
      "metadata": {
        "id": "0tykY55mJxYX"
      },
      "source": [
        "We build the key-value pairs using the expression `key:model_arch[key]`, where the key indexes into the dict `model_arch`."
      ]
    },
    {
      "cell_type": "code",
      "execution_count": null,
      "metadata": {
        "id": "kMU0Qv9yJxYX"
      },
      "outputs": [],
      "source": []
    }
  ],
  "metadata": {
    "anaconda-cloud": {},
    "kernelspec": {
      "display_name": "Python 3.8.9 64-bit",
      "language": "python",
      "name": "python3"
    },
    "language_info": {
      "codemirror_mode": {
        "name": "ipython",
        "version": 3
      },
      "file_extension": ".py",
      "mimetype": "text/x-python",
      "name": "python",
      "nbconvert_exporter": "python",
      "pygments_lexer": "ipython3",
      "version": "3.8.9"
    },
    "vscode": {
      "interpreter": {
        "hash": "31f2aee4e71d21fbe5cf8b01ff0e069b9275f58929596ceb00d14d90e3e16cd6"
      }
    },
    "colab": {
      "provenance": [],
      "include_colab_link": true
    }
  },
  "nbformat": 4,
  "nbformat_minor": 0
}